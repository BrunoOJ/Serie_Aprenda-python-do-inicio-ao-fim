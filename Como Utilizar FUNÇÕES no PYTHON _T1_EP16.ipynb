{
 "cells": [
  {
   "cell_type": "markdown",
   "id": "75bec296-69f6-4969-a0c2-9c58cc24a5c5",
   "metadata": {},
   "source": [
    "# TEMPORADA 1: PYTHON - FUNÇÕES NO PYTHON\n",
    "### T1:E16 - Funções\n",
    "\n",
    "Em Python, funções são blocos de código reutilizáveis que realizam uma tarefa específica. Elas são definidas usando a palavra-chave def. Aqui está uma estrutura básica de uma função em Python:"
   ]
  },
  {
   "cell_type": "code",
   "execution_count": null,
   "id": "ca0102d6-bdaf-462f-8c91-ad1ae8f968bf",
   "metadata": {},
   "outputs": [],
   "source": [
    "def nome_da_funcao(parametro1, parametro2, ...):\n",
    "    # corpo da função\n",
    "    # realiza alguma operação com os parâmetros\n",
    "    # pode incluir declarações condicionais, loops, etc.\n",
    "    return resultado  # opcional, a função pode não retornar nada"
   ]
  },
  {
   "cell_type": "markdown",
   "id": "471bed47-0845-43e2-8a4d-79aa65a6fb6b",
   "metadata": {},
   "source": [
    "#### Definição de Função:"
   ]
  },
  {
   "cell_type": "code",
   "execution_count": 1,
   "id": "2096b400-dcfa-40e4-893a-2114c1092905",
   "metadata": {},
   "outputs": [],
   "source": [
    "def saudacao(nome):\n",
    "    print(\"Olá, \" + nome + \"!\")"
   ]
  },
  {
   "cell_type": "markdown",
   "id": "e75b67b6-5e0e-46d3-99d9-0136bc23ec0e",
   "metadata": {},
   "source": [
    "#### Chamada de Função:"
   ]
  },
  {
   "cell_type": "code",
   "execution_count": 2,
   "id": "cf7d3bdd-f737-4f51-9419-a7d26e8ac39d",
   "metadata": {},
   "outputs": [
    {
     "name": "stdout",
     "output_type": "stream",
     "text": [
      "Olá, Bruno!\n"
     ]
    }
   ],
   "source": [
    "saudacao(\"Bruno\")"
   ]
  },
  {
   "cell_type": "markdown",
   "id": "0841b3c2-8da4-445e-b802-c793a1c3ce61",
   "metadata": {},
   "source": [
    "#### Parâmetros e Argumentos:\n",
    "\n",
    "Parâmetros são variáveis usadas na definição da função.\n",
    "Argumentos são valores reais passados para a função quando ela é chamada.\n",
    "\n",
    "#### Retorno de Valores:\n",
    "\n",
    "Uma função pode opcionalmente retornar um valor usando a palavra-chave **return.**"
   ]
  },
  {
   "cell_type": "code",
   "execution_count": 12,
   "id": "9b1c987f-f839-49c0-9722-b4807a635cf0",
   "metadata": {},
   "outputs": [],
   "source": [
    "def soma(a=5, b=3):\n",
    "    resultado = a + b\n",
    "    return resultado"
   ]
  },
  {
   "cell_type": "code",
   "execution_count": 13,
   "id": "6f4a30ac-f365-4155-920a-ff4431020039",
   "metadata": {},
   "outputs": [
    {
     "name": "stdout",
     "output_type": "stream",
     "text": [
      "8\n"
     ]
    }
   ],
   "source": [
    "resultado_soma = soma()\n",
    "print(resultado_soma)"
   ]
  },
  {
   "cell_type": "code",
   "execution_count": 14,
   "id": "0334329d-9931-492b-a4b5-89fd7ed2ccfc",
   "metadata": {},
   "outputs": [
    {
     "name": "stdout",
     "output_type": "stream",
     "text": [
      "30\n"
     ]
    }
   ],
   "source": [
    "resultado_soma = soma(10, 20)\n",
    "print(resultado_soma)"
   ]
  },
  {
   "cell_type": "markdown",
   "id": "99a654e3-b16b-440b-ad7d-57faddb3a735",
   "metadata": {},
   "source": [
    "#### Argumentos Padrão:\n",
    "\n",
    "Valores padrão podem ser atribuídos aos parâmetros da função.\n"
   ]
  },
  {
   "cell_type": "code",
   "execution_count": 15,
   "id": "373e25b3-92b9-437a-bda8-37ea68623447",
   "metadata": {},
   "outputs": [],
   "source": [
    "def exibir_mensagem(mensagem=\"Olá, mundo!\"):\n",
    "    print(mensagem)"
   ]
  },
  {
   "cell_type": "code",
   "execution_count": 8,
   "id": "b715aaf3-4af1-49e0-9292-b2503bae5eab",
   "metadata": {},
   "outputs": [
    {
     "name": "stdout",
     "output_type": "stream",
     "text": [
      "Olá, mundo!\n"
     ]
    }
   ],
   "source": [
    "exibir_mensagem()"
   ]
  },
  {
   "cell_type": "code",
   "execution_count": 9,
   "id": "10d6210f-7f9a-4d49-8fec-d03e5e8213cc",
   "metadata": {},
   "outputs": [
    {
     "name": "stdout",
     "output_type": "stream",
     "text": [
      "teste\n"
     ]
    }
   ],
   "source": [
    "exibir_mensagem(\"teste\")"
   ]
  },
  {
   "cell_type": "code",
   "execution_count": null,
   "id": "2b01dfbf-2ff9-49ba-81b7-eee7a071a614",
   "metadata": {},
   "outputs": [],
   "source": []
  }
 ],
 "metadata": {
  "kernelspec": {
   "display_name": "Python 3 (ipykernel)",
   "language": "python",
   "name": "python3"
  },
  "language_info": {
   "codemirror_mode": {
    "name": "ipython",
    "version": 3
   },
   "file_extension": ".py",
   "mimetype": "text/x-python",
   "name": "python",
   "nbconvert_exporter": "python",
   "pygments_lexer": "ipython3",
   "version": "3.11.4"
  }
 },
 "nbformat": 4,
 "nbformat_minor": 5
}
