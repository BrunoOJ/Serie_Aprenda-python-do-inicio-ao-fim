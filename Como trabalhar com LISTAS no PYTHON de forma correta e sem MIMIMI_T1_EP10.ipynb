{
 "cells": [
  {
   "cell_type": "markdown",
   "id": "bfd1f135-bcd9-4453-9711-9c1be6e22fa1",
   "metadata": {},
   "source": [
    "# TEMPORADA 1: LISTA\n",
    "### T1:EP10 - PYTHON_LISTA - Criando listas\n",
    "Uma lista é uma estrutura de dados que permite armazenar uma coleção de elementos em uma ordem específica. As listas são mutáveis, o que significa que você pode adicionar, remover ou modificar elementos após a criação da lista. Cada elemento em uma lista pode ser de um tipo diferente, e a lista pode crescer ou diminuir dinamicamente conforme necessário.\n",
    "\r\n",
    "Para criar uma lista em Python, você pode usar colchetes [] e separar os elementos com vírgulas. "
   ]
  },
  {
   "cell_type": "markdown",
   "id": "d8f4acbd-952e-4097-9ed4-53270b7c1ce3",
   "metadata": {},
   "source": [
    "**Métodos**: 'append',\r\n",
    " 'clear',\r\n",
    " 'copy',\r\n",
    " 'count',\r\n",
    " 'extend',\r\n",
    " 'index',\r\n",
    " 'insert',\r\n",
    " 'pop',\r\n",
    " 'remove',\r\n",
    " 'reverse',\r\n",
    " 'sort']"
   ]
  },
  {
   "cell_type": "code",
   "execution_count": 1,
   "id": "9d8311fc-9676-4ad7-b4f7-56eddbcdca48",
   "metadata": {},
   "outputs": [
    {
     "name": "stdout",
     "output_type": "stream",
     "text": [
      "[1, 2, 3, 4, 5]\n",
      "['Alice', 'Bob', 'Carol']\n",
      "[10, 'texto', True, [1, 2, 3]]\n"
     ]
    }
   ],
   "source": [
    "# Armazenamento de elementos: Listas podem ser usadas para armazenar uma coleção de elementos de qualquer tipo, como números, strings, booleanos e até mesmo outras listas.\n",
    "numeros = [1, 2, 3, 4, 5]\n",
    "nomes = ['Alice', 'Bob', 'Carol']\n",
    "misturado = [10, 'texto', True, [1, 2, 3]]\n",
    "print(numeros)\n",
    "print(nomes)\n",
    "print(misturado)"
   ]
  },
  {
   "cell_type": "code",
   "execution_count": 7,
   "id": "d94c02e9-0dfb-41f3-9635-fb4e92147192",
   "metadata": {},
   "outputs": [
    {
     "name": "stdout",
     "output_type": "stream",
     "text": [
      "['maçã', 'banana', 'laranja']\n",
      "maçã\n",
      "maçã\n",
      "['maçã', 'banana', 'laranja']\n"
     ]
    }
   ],
   "source": [
    "# Acesso a elementos individuais: Os elementos de uma lista podem ser acessados individualmente usando a indexação.\n",
    "frutas = ['maçã', 'banana', 'laranja']\n",
    "print(frutas) \n",
    "print(frutas[0]) \n",
    "print(frutas[-3])\n",
    "print(frutas[0:3])"
   ]
  },
  {
   "cell_type": "code",
   "execution_count": 9,
   "id": "4b637eda-a91d-447b-8c0b-22dfbadefb06",
   "metadata": {},
   "outputs": [
    {
     "name": "stdout",
     "output_type": "stream",
     "text": [
      "[8, 7, 9, 6, 10]\n",
      "8\n",
      "7\n",
      "9\n",
      "6\n",
      "10\n"
     ]
    }
   ],
   "source": [
    "# Iteração (loop) sobre os elementos: Listas podem ser usadas em loops para iterar sobre cada elemento.\n",
    "notas = [8, 7, 9, 6, 10]\n",
    "print(notas)\n",
    "for nota in notas:\n",
    "    print(nota)"
   ]
  },
  {
   "cell_type": "code",
   "execution_count": 12,
   "id": "7c88b1d0-3498-4d30-8725-c88c3da754f6",
   "metadata": {},
   "outputs": [
    {
     "name": "stdout",
     "output_type": "stream",
     "text": [
      "[1, 2, 3, 4, 5]\n",
      "[2, 3, 4]\n"
     ]
    }
   ],
   "source": [
    "# Fatiamento (slicing): É possível obter uma parte da lista usando o slicing.\n",
    "numeros = [1, 2, 3, 4, 5]\n",
    "print(numeros)\n",
    "sublista = numeros[1:4]\n",
    "print(sublista)"
   ]
  },
  {
   "cell_type": "code",
   "execution_count": 14,
   "id": "8fe96c63-a5d5-41e4-b806-7962aef5ca00",
   "metadata": {},
   "outputs": [
    {
     "name": "stdout",
     "output_type": "stream",
     "text": [
      "['maçã', 'banana', 'laranja', 'jaca']\n",
      "4\n"
     ]
    }
   ],
   "source": [
    "# Tamanho da lista: Para obter o número de elementos em uma lista, você pode usar a função len().\n",
    "frutas = ['maçã', 'banana', 'laranja','jaca']\n",
    "print(frutas)\n",
    "tamanho = len(frutas)\n",
    "print(tamanho)"
   ]
  },
  {
   "cell_type": "code",
   "execution_count": 15,
   "id": "303bdb7d-788d-4177-bb82-c1354fbd6c6c",
   "metadata": {},
   "outputs": [
    {
     "name": "stdout",
     "output_type": "stream",
     "text": [
      "15\n"
     ]
    }
   ],
   "source": [
    "# sum(): Retorna a soma dos elementos de um objeto iterável que pode ser somado.\n",
    "numeros = [1, 2, 3, 4, 5]\n",
    "soma = sum(numeros)\n",
    "print(soma)"
   ]
  },
  {
   "cell_type": "code",
   "execution_count": 18,
   "id": "81107663-04ce-46fc-abfb-25b86a34c1c7",
   "metadata": {},
   "outputs": [
    {
     "name": "stdout",
     "output_type": "stream",
     "text": [
      "100\n"
     ]
    }
   ],
   "source": [
    "# max(): Retorna o maior elemento de um objeto iterável.\n",
    "numeros = [10, 5, 8, 20, 3, 100]\n",
    "maior = max(numeros)\n",
    "print(maior)"
   ]
  },
  {
   "cell_type": "code",
   "execution_count": 20,
   "id": "b47cd856-a139-4853-839a-1cfce254be05",
   "metadata": {},
   "outputs": [
    {
     "name": "stdout",
     "output_type": "stream",
     "text": [
      "1\n"
     ]
    }
   ],
   "source": [
    "# min(): Retorna o menor elemento de um objeto iterável.\n",
    "numeros = [10, 5, 8, 20, 3, 1]\n",
    "menor = min(numeros)\n",
    "print(menor)"
   ]
  }
 ],
 "metadata": {
  "kernelspec": {
   "display_name": "Python 3 (ipykernel)",
   "language": "python",
   "name": "python3"
  },
  "language_info": {
   "codemirror_mode": {
    "name": "ipython",
    "version": 3
   },
   "file_extension": ".py",
   "mimetype": "text/x-python",
   "name": "python",
   "nbconvert_exporter": "python",
   "pygments_lexer": "ipython3",
   "version": "3.11.4"
  }
 },
 "nbformat": 4,
 "nbformat_minor": 5
}
