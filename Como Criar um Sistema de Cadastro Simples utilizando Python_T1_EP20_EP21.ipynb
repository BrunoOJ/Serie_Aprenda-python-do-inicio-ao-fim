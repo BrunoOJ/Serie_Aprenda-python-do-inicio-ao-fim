{
 "cells": [
  {
   "cell_type": "markdown",
   "id": "5d7feb41-c429-4740-846f-b04607b9d5af",
   "metadata": {},
   "source": [
    "# TEMPORADA 1: PYTHON - CRIANDO UM SISTEMA DE CADASTRO SIMPLES\n",
    "### T1:E20 e E21 - PYTHON_SISTEMA DE CADASTRO"
   ]
  },
  {
   "cell_type": "code",
   "execution_count": 1,
   "id": "73467763-ad11-426b-bae9-a0c3c5eff6e0",
   "metadata": {},
   "outputs": [],
   "source": [
    "def cadastrar_cliente():\n",
    "    nome = input(\"Digite o nome: \")\n",
    "    idade = int(input(\"Digite a idade: \"))\n",
    "    email = input(\"Digite o email: \")\n",
    "    cliente = {\"Nome\":nome,\"Idade\":idade,\"Email\":email}\n",
    "    return cliente"
   ]
  },
  {
   "cell_type": "code",
   "execution_count": 2,
   "id": "0aa7db51-4775-4e1b-ad39-344a23a6ba13",
   "metadata": {},
   "outputs": [
    {
     "name": "stdout",
     "output_type": "stream",
     "text": [
      "=======CADASTRO DE CLIENTES=======\n",
      "1 - Cadastrar Cliente\n",
      "2 - Exibir Clientes\n",
      "3 - Apagar Clientes\n",
      "4 - Alterar Clientes\n",
      "5 - Sair do Programa\n"
     ]
    },
    {
     "name": "stdin",
     "output_type": "stream",
     "text": [
      "Digite a opção desejada:  1\n",
      "Digite o nome:  aaaa\n",
      "Digite a idade:  1\n",
      "Digite o email:  a@\n"
     ]
    },
    {
     "name": "stdout",
     "output_type": "stream",
     "text": [
      "Cliente foi adicionado com sucesso!!\n",
      "=======CADASTRO DE CLIENTES=======\n",
      "1 - Cadastrar Cliente\n",
      "2 - Exibir Clientes\n",
      "3 - Apagar Clientes\n",
      "4 - Alterar Clientes\n",
      "5 - Sair do Programa\n"
     ]
    },
    {
     "name": "stdin",
     "output_type": "stream",
     "text": [
      "Digite a opção desejada:  1\n",
      "Digite o nome:  bbbb\n",
      "Digite a idade:  2\n",
      "Digite o email:  b@\n"
     ]
    },
    {
     "name": "stdout",
     "output_type": "stream",
     "text": [
      "Cliente foi adicionado com sucesso!!\n",
      "=======CADASTRO DE CLIENTES=======\n",
      "1 - Cadastrar Cliente\n",
      "2 - Exibir Clientes\n",
      "3 - Apagar Clientes\n",
      "4 - Alterar Clientes\n",
      "5 - Sair do Programa\n"
     ]
    },
    {
     "name": "stdin",
     "output_type": "stream",
     "text": [
      "Digite a opção desejada:  2\n"
     ]
    },
    {
     "name": "stdout",
     "output_type": "stream",
     "text": [
      "{'Nome': 'aaaa', 'Idade': 1, 'Email': 'a@'}\n",
      "{'Nome': 'bbbb', 'Idade': 2, 'Email': 'b@'}\n",
      "=======CADASTRO DE CLIENTES=======\n",
      "1 - Cadastrar Cliente\n",
      "2 - Exibir Clientes\n",
      "3 - Apagar Clientes\n",
      "4 - Alterar Clientes\n",
      "5 - Sair do Programa\n"
     ]
    },
    {
     "name": "stdin",
     "output_type": "stream",
     "text": [
      "Digite a opção desejada:  3\n"
     ]
    },
    {
     "name": "stdout",
     "output_type": "stream",
     "text": [
      "Clientes possíveis para apagar!\n",
      "0 {'Nome': 'aaaa', 'Idade': 1, 'Email': 'a@'}\n",
      "1 {'Nome': 'bbbb', 'Idade': 2, 'Email': 'b@'}\n"
     ]
    },
    {
     "name": "stdin",
     "output_type": "stream",
     "text": [
      "Qual cliente você que apagar? Digite o número:  0\n"
     ]
    },
    {
     "name": "stdout",
     "output_type": "stream",
     "text": [
      "Cliente apagado com sucesso!\n",
      "=======CADASTRO DE CLIENTES=======\n",
      "1 - Cadastrar Cliente\n",
      "2 - Exibir Clientes\n",
      "3 - Apagar Clientes\n",
      "4 - Alterar Clientes\n",
      "5 - Sair do Programa\n"
     ]
    },
    {
     "name": "stdin",
     "output_type": "stream",
     "text": [
      "Digite a opção desejada:  2\n"
     ]
    },
    {
     "name": "stdout",
     "output_type": "stream",
     "text": [
      "{'Nome': 'bbbb', 'Idade': 2, 'Email': 'b@'}\n",
      "=======CADASTRO DE CLIENTES=======\n",
      "1 - Cadastrar Cliente\n",
      "2 - Exibir Clientes\n",
      "3 - Apagar Clientes\n",
      "4 - Alterar Clientes\n",
      "5 - Sair do Programa\n"
     ]
    },
    {
     "name": "stdin",
     "output_type": "stream",
     "text": [
      "Digite a opção desejada:  4\n"
     ]
    },
    {
     "name": "stdout",
     "output_type": "stream",
     "text": [
      "Clientes possíveis para Alterar!\n",
      "0 {'Nome': 'bbbb', 'Idade': 2, 'Email': 'b@'}\n"
     ]
    },
    {
     "name": "stdin",
     "output_type": "stream",
     "text": [
      "Qual cliente você que Alterar? Digite o número:  0\n",
      "Digite o nome:  aaaa\n",
      "Digite a idade:  2\n",
      "Digite o email:  b@\n"
     ]
    },
    {
     "name": "stdout",
     "output_type": "stream",
     "text": [
      "Cliente alterado com sucesso!\n",
      "=======CADASTRO DE CLIENTES=======\n",
      "1 - Cadastrar Cliente\n",
      "2 - Exibir Clientes\n",
      "3 - Apagar Clientes\n",
      "4 - Alterar Clientes\n",
      "5 - Sair do Programa\n"
     ]
    },
    {
     "name": "stdin",
     "output_type": "stream",
     "text": [
      "Digite a opção desejada:  2\n"
     ]
    },
    {
     "name": "stdout",
     "output_type": "stream",
     "text": [
      "{'Nome': 'aaaa', 'Idade': 2, 'Email': 'b@'}\n",
      "=======CADASTRO DE CLIENTES=======\n",
      "1 - Cadastrar Cliente\n",
      "2 - Exibir Clientes\n",
      "3 - Apagar Clientes\n",
      "4 - Alterar Clientes\n",
      "5 - Sair do Programa\n"
     ]
    },
    {
     "name": "stdin",
     "output_type": "stream",
     "text": [
      "Digite a opção desejada:  5\n"
     ]
    },
    {
     "name": "stdout",
     "output_type": "stream",
     "text": [
      "O programa foi encerrado!!!\n"
     ]
    }
   ],
   "source": [
    "lista_clientes = []\n",
    "\n",
    "while True:\n",
    "    print(\"=======CADASTRO DE CLIENTES=======\")\n",
    "    print(\"1 - Cadastrar Cliente\")\n",
    "    print(\"2 - Exibir Clientes\")\n",
    "    print(\"3 - Apagar Clientes\")\n",
    "    print(\"4 - Alterar Clientes\")\n",
    "    print(\"5 - Sair do Programa\")\n",
    "    opcao = int(input(\"Digite a opção desejada: \"))\n",
    "\n",
    "    if opcao == 1:\n",
    "        resp_cliente = cadastrar_cliente()\n",
    "        lista_clientes.append(resp_cliente)\n",
    "        print(\"Cliente foi adicionado com sucesso!!\")\n",
    "\n",
    "    elif opcao == 2:\n",
    "        if not lista_clientes:\n",
    "            print(\"Não há cliente cadastrado para ser exibido!\")\n",
    "        for i in lista_clientes:\n",
    "            print(i)\n",
    "\n",
    "    elif opcao == 3:\n",
    "        if not lista_clientes:\n",
    "            print(\"Não há clientes cadastrados!\")\n",
    "        else:\n",
    "            print(\"Clientes possíveis para apagar!\")\n",
    "            for i, cliente in enumerate(lista_clientes): # [a,b,c]\n",
    "                print(i, cliente)\n",
    "            ind = int(input(\"Qual cliente você que apagar? Digite o número: \"))\n",
    "            if 0 <= ind <= len(lista_clientes):\n",
    "                del(lista_clientes[ind])\n",
    "                print(\"Cliente apagado com sucesso!\")\n",
    "            else:\n",
    "                print(\"Opção inválida!\")\n",
    "\n",
    "    elif opcao == 4:\n",
    "        if not lista_clientes:\n",
    "            print(\"Não há clientes cadastrados!\")\n",
    "        else:\n",
    "            print(\"Clientes possíveis para Alterar!\")\n",
    "            for i, cliente in enumerate(lista_clientes): # [a,b,c]\n",
    "                print(i, cliente)\n",
    "            ind = int(input(\"Qual cliente você que Alterar? Digite o número: \"))\n",
    "            if 0 <= ind <= len(lista_clientes):\n",
    "                chamar_cadastro = cadastrar_cliente()\n",
    "                lista_clientes[ind] = chamar_cadastro\n",
    "                print(\"Cliente alterado com sucesso!\")\n",
    "            else:\n",
    "                print(\"Opção inválida!\")\n",
    "    elif opcao == 5:\n",
    "        print(\"O programa foi encerrado!!!\")\n",
    "        break\n",
    "    else:\n",
    "        print(\"Opção inválida!!\")"
   ]
  },
  {
   "cell_type": "code",
   "execution_count": null,
   "id": "8bcf316e-81fb-4ec3-9c04-d5a8f3be80f0",
   "metadata": {},
   "outputs": [],
   "source": []
  }
 ],
 "metadata": {
  "kernelspec": {
   "display_name": "Python 3 (ipykernel)",
   "language": "python",
   "name": "python3"
  },
  "language_info": {
   "codemirror_mode": {
    "name": "ipython",
    "version": 3
   },
   "file_extension": ".py",
   "mimetype": "text/x-python",
   "name": "python",
   "nbconvert_exporter": "python",
   "pygments_lexer": "ipython3",
   "version": "3.11.4"
  }
 },
 "nbformat": 4,
 "nbformat_minor": 5
}
