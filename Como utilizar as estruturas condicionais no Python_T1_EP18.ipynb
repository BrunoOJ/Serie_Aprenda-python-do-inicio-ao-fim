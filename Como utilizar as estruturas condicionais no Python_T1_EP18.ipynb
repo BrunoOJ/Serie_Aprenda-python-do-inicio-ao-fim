{
 "cells": [
  {
   "cell_type": "markdown",
   "id": "5d7feb41-c429-4740-846f-b04607b9d5af",
   "metadata": {},
   "source": [
    "# TEMPORADA 1: PYTHON - ESTRUTURAS CONDICIONAIS NO PYTHON\n",
    "### T1:E18 - Estrutura condicional IF, ELSE e ELIF\n",
    "Em Python, as estruturas condicionais são usadas para executar diferentes blocos de código com base em condições específicas. As principais construções condicionais em Python são **if**, **else** e **elif** (abreviação de \"else if\"). Aqui estão alguns exemplos de como usar condicionais em Python:"
   ]
  },
  {
   "cell_type": "markdown",
   "id": "9dea0eb0-f382-4a37-b927-36696d2358d5",
   "metadata": {},
   "source": [
    "A estrutura básica de um bloco if em Python é bastante simples. Aqui está a sintaxe geral:"
   ]
  },
  {
   "cell_type": "code",
   "execution_count": null,
   "id": "b15025e2-64d4-4584-b25b-dd8347909934",
   "metadata": {},
   "outputs": [],
   "source": [
    "if condição:\n",
    "    # Código a ser executado se a condição for verdadeira\n",
    "    # Pode ter várias linhas de código indentadas\n",
    "else:\n",
    "    # Código a ser executado se a condição for falsa\n",
    "    # Pode ter várias linhas de código indentadas"
   ]
  },
  {
   "cell_type": "markdown",
   "id": "0f2b8c37-919e-4e1b-933e-cf316d5b6686",
   "metadata": {},
   "source": [
    "#### Exemplo 1: Uso do **if**"
   ]
  },
  {
   "cell_type": "code",
   "execution_count": 1,
   "id": "0fc051f4-5483-4d44-8009-f60594637114",
   "metadata": {},
   "outputs": [
    {
     "name": "stdout",
     "output_type": "stream",
     "text": [
      "Você é maior de idade.\n"
     ]
    }
   ],
   "source": [
    "idade = 20\n",
    "\n",
    "if idade >= 18:\n",
    "    print(\"Você é maior de idade.\")"
   ]
  },
  {
   "cell_type": "markdown",
   "id": "bcc2c748-e1e2-4d19-91de-7d725d449a11",
   "metadata": {},
   "source": [
    "#### Exemplo 2: Uso do **if** e **else**"
   ]
  },
  {
   "cell_type": "code",
   "execution_count": 2,
   "id": "238dd268-6690-402d-aaa0-2bc8fe957570",
   "metadata": {},
   "outputs": [
    {
     "name": "stdout",
     "output_type": "stream",
     "text": [
      "Você é maior de idade.\n"
     ]
    }
   ],
   "source": [
    "idade = 20\n",
    "\n",
    "if idade >= 18:\n",
    "    print(\"Você é maior de idade.\")\n",
    "else:\n",
    "    print(\"Você é menor de idade.\")"
   ]
  },
  {
   "cell_type": "markdown",
   "id": "dff4da04-bdde-4d63-878c-6f8fff4f4083",
   "metadata": {},
   "source": [
    "#### Exemplo 3: Uso do **if**, **elif** e **else**"
   ]
  },
  {
   "cell_type": "code",
   "execution_count": 3,
   "id": "fb3f9c5a-e409-4287-b685-ace55bce0625",
   "metadata": {},
   "outputs": [
    {
     "name": "stdout",
     "output_type": "stream",
     "text": [
      "Nota insuficiente\n"
     ]
    }
   ],
   "source": [
    "nota = 60\n",
    "\n",
    "if nota >= 90:\n",
    "    print(\"A\")\n",
    "elif nota >= 80:\n",
    "    print(\"B\")\n",
    "elif nota >= 70:\n",
    "    print(\"C\")\n",
    "else:\n",
    "    print(\"Nota insuficiente\")"
   ]
  },
  {
   "cell_type": "markdown",
   "id": "9f6f3fba-d630-49ec-8f92-e215f4f34f34",
   "metadata": {},
   "source": [
    "#### Exemplo 4: Condição Ternária\n",
    "A condição ternária, em programação, refere-se a uma expressão compacta que permite realizar uma avaliação condicional em uma única linha de código. Ela é chamada de \"ternária\" porque envolve três partes: a condição a ser avaliada, a expressão que é executada se a condição for verdadeira e a expressão que é executada se a condição for falsa."
   ]
  },
  {
   "cell_type": "markdown",
   "id": "d5d4982e-969c-44b6-8d60-f8af74298d46",
   "metadata": {},
   "source": [
    "resultado_verdadeiro **if** condicao **else** resultado_falso"
   ]
  },
  {
   "cell_type": "code",
   "execution_count": 4,
   "id": "ab04bc50-a4a8-4d14-aba0-27fcf358f0f5",
   "metadata": {},
   "outputs": [
    {
     "data": {
      "text/plain": [
       "'Maior de idade'"
      ]
     },
     "execution_count": 4,
     "metadata": {},
     "output_type": "execute_result"
    }
   ],
   "source": [
    "idade = 18\n",
    "\"Maior de idade\" if idade >= 18 else \"Menor de idade\""
   ]
  },
  {
   "cell_type": "markdown",
   "id": "07aee249-58ea-43c7-9db9-ccd3d287221c",
   "metadata": {},
   "source": [
    "#### Exemplo 5: Verificar se um número é **positivo**, **negativo** ou **zero**"
   ]
  },
  {
   "cell_type": "code",
   "execution_count": 5,
   "id": "20753b08-9488-459f-a366-f68e1884959b",
   "metadata": {},
   "outputs": [
    {
     "name": "stdout",
     "output_type": "stream",
     "text": [
      "O número é zero.\n"
     ]
    }
   ],
   "source": [
    "numero = 0\n",
    "\n",
    "if numero > 0:\n",
    "    print(\"O número é positivo.\")\n",
    "elif numero < 0:\n",
    "    print(\"O número é negativo.\")\n",
    "else:\n",
    "    print(\"O número é zero.\")"
   ]
  },
  {
   "cell_type": "markdown",
   "id": "71ed8858-46b5-4688-9ca0-25c02979ee46",
   "metadata": {},
   "source": [
    "#### Exemplo 6: Verificar se um número é **par** ou **ímpar**"
   ]
  },
  {
   "cell_type": "code",
   "execution_count": 7,
   "id": "b350b9af-2a1f-4bf2-afe9-9c29921630c9",
   "metadata": {},
   "outputs": [
    {
     "name": "stdout",
     "output_type": "stream",
     "text": [
      "O número é par.\n"
     ]
    }
   ],
   "source": [
    "numero = 6\n",
    "\n",
    "if numero % 2 == 0:\n",
    "    print(\"O número é par.\")\n",
    "else:\n",
    "    print(\"O número é ímpar.\")"
   ]
  },
  {
   "cell_type": "code",
   "execution_count": null,
   "id": "925e917b-af93-47ad-acc4-662693f1a0f7",
   "metadata": {},
   "outputs": [],
   "source": []
  }
 ],
 "metadata": {
  "kernelspec": {
   "display_name": "Python 3 (ipykernel)",
   "language": "python",
   "name": "python3"
  },
  "language_info": {
   "codemirror_mode": {
    "name": "ipython",
    "version": 3
   },
   "file_extension": ".py",
   "mimetype": "text/x-python",
   "name": "python",
   "nbconvert_exporter": "python",
   "pygments_lexer": "ipython3",
   "version": "3.11.4"
  }
 },
 "nbformat": 4,
 "nbformat_minor": 5
}
