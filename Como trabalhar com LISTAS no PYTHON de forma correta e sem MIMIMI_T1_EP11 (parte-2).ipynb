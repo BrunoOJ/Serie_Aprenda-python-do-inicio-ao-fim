{
 "cells": [
  {
   "cell_type": "markdown",
   "id": "bfd1f135-bcd9-4453-9711-9c1be6e22fa1",
   "metadata": {},
   "source": [
    "# TEMPORADA 1: LISTA\n",
    "### T1:EP11 - PYTHON_LISTA - Utilizando os métodos das listas\n",
    "Uma lista é uma estrutura de dados que permite armazenar uma coleção de elementos em uma ordem específica. As listas são mutáveis, o que significa que você pode adicionar, remover ou modificar elementos após a criação da lista. Cada elemento em uma lista pode ser de um tipo diferente, e a lista pode crescer ou diminuir dinamicamente conforme necessário.\n",
    "\r\n",
    "Para criar uma lista em Python, você pode usar colchetes [] e separar os elementos com vírgulas. "
   ]
  },
  {
   "cell_type": "markdown",
   "id": "d8f4acbd-952e-4097-9ed4-53270b7c1ce3",
   "metadata": {},
   "source": [
    "**Métodos**: 'append',\r\n",
    " 'clear',\r\n",
    " 'copy',\r\n",
    " 'count',\r\n",
    " 'extend',\r\n",
    " 'index',\r\n",
    " 'insert',\r\n",
    " 'pop',\r\n",
    " 'remove',\r\n",
    " 'reverse',\r\n",
    " 'sort']"
   ]
  },
  {
   "cell_type": "markdown",
   "id": "25cef1bd-0e82-4f43-9ea3-0c3fdb7638dc",
   "metadata": {},
   "source": [
    "### PYTHON_LISTA - Métodos (append, clear, copy, count, extend, index, insert, pop, remove, reverse, sort)"
   ]
  },
  {
   "cell_type": "code",
   "execution_count": 1,
   "id": "f9be894a-86d3-49f0-82d7-d85ea8d30f62",
   "metadata": {},
   "outputs": [
    {
     "name": "stdout",
     "output_type": "stream",
     "text": [
      "['maçã', 'banana', 'laranja', 'morango']\n"
     ]
    }
   ],
   "source": [
    "# append(): Adiciona um elemento ao final da lista.\n",
    "lista_frutas = ['maçã', 'banana', 'laranja']\n",
    "lista_frutas.append('morango')\n",
    "print(lista_frutas) "
   ]
  },
  {
   "cell_type": "code",
   "execution_count": 2,
   "id": "63edeea0-0627-43df-a3e5-3c83021ebc79",
   "metadata": {},
   "outputs": [
    {
     "name": "stdout",
     "output_type": "stream",
     "text": [
      "[1, 2, 3, 4, 5]\n",
      "[]\n"
     ]
    }
   ],
   "source": [
    "# clear(): Remove todos os elementos da lista.\n",
    "lista_numeros = [1, 2, 3, 4, 5]\n",
    "print(lista_numeros)\n",
    "lista_numeros.clear()\n",
    "print(lista_numeros) "
   ]
  },
  {
   "cell_type": "code",
   "execution_count": 3,
   "id": "088316b9-9837-43c2-968a-a902ee9edf0d",
   "metadata": {},
   "outputs": [
    {
     "name": "stdout",
     "output_type": "stream",
     "text": [
      "[1, 2, 3]\n",
      "[1, 2, 3]\n"
     ]
    }
   ],
   "source": [
    "# copy(): Retorna uma cópia da lista.\n",
    "lista_origem = [1, 2, 3]\n",
    "print(lista_origem)\n",
    "lista_copia = lista_origem.copy()\n",
    "print(lista_copia)"
   ]
  },
  {
   "cell_type": "code",
   "execution_count": 4,
   "id": "3389d730-148a-4c7f-8319-d2dbd220ee14",
   "metadata": {},
   "outputs": [
    {
     "name": "stdout",
     "output_type": "stream",
     "text": [
      "4\n"
     ]
    }
   ],
   "source": [
    "# count(): Retorna o número de ocorrências do valor especificado.\n",
    "lista_numeros = [1, 2, 3, 2, 4, 5, 2, 3, 5, 5, 5, 6, 6, 7, 6, 8, 3, 2, 3, 4, 5, 6, 9]\n",
    "ocorrencias_2 = lista_numeros.count(2)\n",
    "print(ocorrencias_2)"
   ]
  },
  {
   "cell_type": "code",
   "execution_count": 5,
   "id": "fb4c1621-474a-418a-a21b-75893eaa2b2d",
   "metadata": {},
   "outputs": [
    {
     "name": "stdout",
     "output_type": "stream",
     "text": [
      "[1, 2, 3, 4, 5, 6, 7]\n"
     ]
    }
   ],
   "source": [
    "# extend(): Adiciona os elementos de outra lista ao final da lista.\n",
    "lista_numeros = [1, 2, 3]\n",
    "outra_lista = [4, 5, 6, 7]\n",
    "lista_numeros.extend(outra_lista)\n",
    "print(lista_numeros)"
   ]
  },
  {
   "cell_type": "code",
   "execution_count": 6,
   "id": "bff269ac-ea77-439d-8603-2f861d18b1ad",
   "metadata": {},
   "outputs": [
    {
     "name": "stdout",
     "output_type": "stream",
     "text": [
      "2\n"
     ]
    }
   ],
   "source": [
    "# index(): Retorna o índice do primeiro elemento com o valor especificado.\n",
    "lista_cores = ['vermelho', 'azul', 'verde', 'vermelho']\n",
    "indice_vermelho = lista_cores.index('verde')\n",
    "print(indice_vermelho) "
   ]
  },
  {
   "cell_type": "code",
   "execution_count": 7,
   "id": "69cd6b93-c6f5-4285-8a74-cc8033f1abac",
   "metadata": {},
   "outputs": [
    {
     "name": "stdout",
     "output_type": "stream",
     "text": [
      "['vermelho', 'amarelo', 'azul', 'verde']\n"
     ]
    }
   ],
   "source": [
    "# insert(): Insere um elemento em uma posição específica na lista.\n",
    "lista_cores = ['vermelho', 'azul', 'verde']\n",
    "lista_cores.insert(1, 'amarelo')\n",
    "print(lista_cores)"
   ]
  },
  {
   "cell_type": "code",
   "execution_count": 8,
   "id": "11902daf-73c0-4772-8b68-ec4aeba72194",
   "metadata": {},
   "outputs": [
    {
     "name": "stdout",
     "output_type": "stream",
     "text": [
      "laranja\n",
      "['maçã', 'banana']\n"
     ]
    }
   ],
   "source": [
    "# pop(): Remove e retorna o elemento na posição especificada (ou o último se nenhum índice for fornecido).\n",
    "lista_frutas = ['maçã', 'banana', 'laranja']\n",
    "fruta_removida = lista_frutas.pop()\n",
    "print(fruta_removida) \n",
    "print(lista_frutas)"
   ]
  },
  {
   "cell_type": "code",
   "execution_count": 9,
   "id": "a7388318-8579-44a7-9d72-c9e4c6006a5d",
   "metadata": {},
   "outputs": [
    {
     "name": "stdout",
     "output_type": "stream",
     "text": [
      "[1, 2, 3, 2, 4, 5]\n"
     ]
    }
   ],
   "source": [
    "# remove(): Remove o primeiro elemento com o valor especificado. \n",
    "#OBS.: O parâmetro deve ser o valor que deseja remover e não o índice\n",
    "lista_numeros = [1, 2, 3, 2, 4, 5, \"m\"]\n",
    "lista_numeros.remove(\"m\")\n",
    "print(lista_numeros)"
   ]
  },
  {
   "cell_type": "code",
   "execution_count": 10,
   "id": "59b891bc-65ec-4b8e-91b2-ef925d3b8910",
   "metadata": {},
   "outputs": [
    {
     "name": "stdout",
     "output_type": "stream",
     "text": [
      "[2, 'laranja', 'banana', 'maçã']\n"
     ]
    }
   ],
   "source": [
    "# reverse(): Inverte a ordem dos elementos da lista.\n",
    "lista_frutas = ['maçã', 'banana', 'laranja', 2]\n",
    "lista_frutas.reverse()\n",
    "print(lista_frutas)"
   ]
  },
  {
   "cell_type": "code",
   "execution_count": 11,
   "id": "bf21b8cc-527e-4cc2-a4f1-f7b86dc679e7",
   "metadata": {},
   "outputs": [
    {
     "name": "stdout",
     "output_type": "stream",
     "text": [
      "[0, 1, 2, 3, 4, 5]\n"
     ]
    }
   ],
   "source": [
    "# sort(): Ordena os elementos da lista em ordem crescente. (Só lista numérica)\n",
    "lista_numeros = [3, 1, 4, 2, 5, 0]\n",
    "lista_numeros.sort()\n",
    "print(lista_numeros)"
   ]
  },
  {
   "cell_type": "code",
   "execution_count": 12,
   "id": "b822260a-002d-4a6c-b68e-4860e6f8990c",
   "metadata": {},
   "outputs": [
    {
     "name": "stdout",
     "output_type": "stream",
     "text": [
      "[1, 2, 3, 4, 5]\n"
     ]
    }
   ],
   "source": [
    "# sorted(): Retorna uma nova lista com os elementos ordenados de forma crescente ou \n",
    "# usando uma função de comparação personalizada.\n",
    "numeros = [3, 1, 4, 2, 5]\n",
    "numeros_ordenados = sorted(numeros)\n",
    "print(numeros_ordenados)\n"
   ]
  },
  {
   "cell_type": "code",
   "execution_count": null,
   "id": "2a1b47f8-67b3-4f4c-9372-9e1c643e401d",
   "metadata": {},
   "outputs": [],
   "source": []
  }
 ],
 "metadata": {
  "kernelspec": {
   "display_name": "Python 3 (ipykernel)",
   "language": "python",
   "name": "python3"
  },
  "language_info": {
   "codemirror_mode": {
    "name": "ipython",
    "version": 3
   },
   "file_extension": ".py",
   "mimetype": "text/x-python",
   "name": "python",
   "nbconvert_exporter": "python",
   "pygments_lexer": "ipython3",
   "version": "3.11.4"
  }
 },
 "nbformat": 4,
 "nbformat_minor": 5
}
