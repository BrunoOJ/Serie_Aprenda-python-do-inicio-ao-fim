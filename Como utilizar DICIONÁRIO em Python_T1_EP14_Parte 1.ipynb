{
 "cells": [
  {
   "cell_type": "markdown",
   "id": "5d7feb41-c429-4740-846f-b04607b9d5af",
   "metadata": {},
   "source": [
    "# TEMPORADA 1: PYTHON - DICIONÁRIO\n",
    "### T1:E14 - PYTHON_DICIONÁRIO - PARTE 1\n",
    "\n",
    "Em Python, um dicionário é uma estrutura de dados que permite armazenar pares de chave-valor. Cada chave em um dicionário é única e mapeia para um valor específico. "
   ]
  },
  {
   "cell_type": "markdown",
   "id": "8725cc94-04d7-42b8-9a97-90bdd9ba1c7e",
   "metadata": {},
   "source": [
    "Aqui estão algumas características-chave dos dicionários em Python:\n",
    "\n",
    "**Unicidade das Chaves:** \n",
    "Cada chave em um dicionário é única. Isso significa que não pode haver duas chaves iguais em um mesmo dicionário.\n",
    "\n",
    "**Mutabilidade:**\n",
    "Dicionários são mutáveis, o que significa que é possível adicionar, modificar e remover elementos após a sua criação.\n",
    "\n",
    "**Heterogeneidade:** Os valores associados às chaves podem ser de qualquer tipo, incluindo números, strings, listas ou até mesmo outros dicionários.\n",
    "\n",
    "**Sintaxe:** A sintaxe básica para criar um dicionário em Python é usando chaves {} e separando os pares chave-valor por dois-pontos :. Por exemplo:"
   ]
  },
  {
   "cell_type": "code",
   "execution_count": 1,
   "id": "6e03a34a-6201-4b20-9adc-91c7158f5661",
   "metadata": {},
   "outputs": [
    {
     "name": "stdout",
     "output_type": "stream",
     "text": [
      "{'chave1': 'valor1', 'chave2': 42, 'chave3': [1, 2, 3]}\n"
     ]
    }
   ],
   "source": [
    "# Exemplo\n",
    "meu_dicionario = {'chave1': 'valor1', 'chave2': 42, 'chave3': [1, 2, 3]}\n",
    "print(meu_dicionario)"
   ]
  },
  {
   "cell_type": "markdown",
   "id": "c9787a89-3580-44d1-a12a-53dd2dd14c99",
   "metadata": {},
   "source": [
    "**Acesso aos Elementos:**\n",
    "Os elementos de um dicionário são acessados usando as chaves. Por exemplo:"
   ]
  },
  {
   "cell_type": "code",
   "execution_count": 4,
   "id": "1998f50b-d8df-4c01-b706-cabbb793bffc",
   "metadata": {},
   "outputs": [
    {
     "name": "stdout",
     "output_type": "stream",
     "text": [
      "42\n"
     ]
    }
   ],
   "source": [
    "print(meu_dicionario['chave2']) "
   ]
  },
  {
   "cell_type": "markdown",
   "id": "c58cb0c2-c40e-4846-9d97-2be5f47f19a0",
   "metadata": {},
   "source": [
    "Método: **get**, **keys**, **values**, **items**, **update**, **pop**, **popitem** , **clear**,**setdefault**, **fromkeys**\n",
    " "
   ]
  },
  {
   "cell_type": "code",
   "execution_count": 6,
   "id": "b80cb66c-fbe2-4ac3-a22c-279afbd40a57",
   "metadata": {},
   "outputs": [
    {
     "name": "stdout",
     "output_type": "stream",
     "text": [
      "3\n",
      "None\n"
     ]
    }
   ],
   "source": [
    "# dict.get(key, default=None): Retorna o valor associado à chave especificada, se ela existir. \n",
    "# Se a chave não existir, retorna o valor padrão fornecido (padrão é None se não for especificado). \n",
    "# Isso evita o erro KeyError. Exemplo:\n",
    "\n",
    "meu_dic = {'a': 1, 'b': 2, 'c': 3}\n",
    "print(meu_dic.get('c'))  \n",
    "print(meu_dic.get('d'))"
   ]
  },
  {
   "cell_type": "code",
   "execution_count": 7,
   "id": "60c7c808-8bd4-4069-8cbf-9477eff187f0",
   "metadata": {},
   "outputs": [
    {
     "name": "stdout",
     "output_type": "stream",
     "text": [
      "dict_keys(['a', 'b', 'c'])\n",
      "['a', 'b', 'c']\n"
     ]
    }
   ],
   "source": [
    "# dict.keys(): Retorna uma visão de todas as chaves no dicionário. Essa visão pode \n",
    "# ser convertida em uma lista se necessário. Exemplo:\n",
    "\n",
    "meu_dic = {'a': 1, 'b': 2, 'c': 3}\n",
    "print(meu_dic.keys()) \n",
    "print(list(meu_dic.keys())) # Para transformar em lista, basta usar o método list()"
   ]
  },
  {
   "cell_type": "code",
   "execution_count": 8,
   "id": "bb956a1b-a99d-4454-94f6-d543a62bdf5a",
   "metadata": {},
   "outputs": [
    {
     "name": "stdout",
     "output_type": "stream",
     "text": [
      "dict_values([1, 2, 3])\n",
      "[1, 2, 3]\n"
     ]
    }
   ],
   "source": [
    "# dict.values(): Retorna uma visão de todos os valores no dicionário. Assim como dict.keys(), \n",
    "# essa visão pode ser convertida em uma lista. Exemplo:\n",
    "\n",
    "meu_dic = {'a': 1, 'b': 2, 'c': 3}\n",
    "print(meu_dic.values())\n",
    "print(list(meu_dic.values())) # Para transformar em lista, basta usar o método list()"
   ]
  },
  {
   "cell_type": "code",
   "execution_count": 9,
   "id": "3aa2f1ee-8519-4886-913e-a1ffc9f51703",
   "metadata": {},
   "outputs": [
    {
     "name": "stdout",
     "output_type": "stream",
     "text": [
      "dict_items([('a', 1), ('b', 2), ('c', 3)])\n",
      "[('a', 1), ('b', 2), ('c', 3)]\n"
     ]
    }
   ],
   "source": [
    "# dict.items(): Retorna uma visão de todos os pares chave-valor no dicionário como tuplas. \n",
    "# Cada tupla contém uma chave e seu valor correspondente. Exemplo:\n",
    "\n",
    "meu_dic = {'a': 1, 'b': 2, 'c': 3}\n",
    "print(meu_dic.items())\n",
    "print(list(meu_dic.items())) # Para transformar em lista, basta usar o método list()"
   ]
  },
  {
   "cell_type": "code",
   "execution_count": 12,
   "id": "d5745193-5e63-440a-a0e2-9379c3f7657c",
   "metadata": {},
   "outputs": [
    {
     "data": {
      "text/plain": [
       "{'a': 0, 'b': 1, 'c': 2, 'g': 3}"
      ]
     },
     "execution_count": 12,
     "metadata": {},
     "output_type": "execute_result"
    }
   ],
   "source": [
    "# Para transformar uma lista de Tuple em um dicionário, basta usar o método dict()\n",
    "# OBS.: A Tupla deve conter apenas dois elementos.\n",
    "Lista_Tupla = [('a',0),('b',1),('c',2),('g',3)]\n",
    "dic = dict(Lista_Tupla)\n",
    "dic"
   ]
  },
  {
   "cell_type": "code",
   "execution_count": 13,
   "id": "baa990a7-68f8-43bb-bbd1-33514516ea4d",
   "metadata": {},
   "outputs": [
    {
     "name": "stdout",
     "output_type": "stream",
     "text": [
      "{'a': 1, 'b': 2}\n"
     ]
    }
   ],
   "source": [
    "# dict.update(other_dict): Atualiza o dicionário com os pares chave-valor do dicionário fornecido \n",
    "# como argumento. Se uma chave já existir no dicionário original, seu valor será substituído. Exemplo:\n",
    "\n",
    "meu_dic = {'a': 1, 'b': 2}\n",
    "print(meu_dic)"
   ]
  },
  {
   "cell_type": "code",
   "execution_count": 14,
   "id": "12424e3a-4e2f-47a6-ac80-7e3269715002",
   "metadata": {},
   "outputs": [
    {
     "name": "stdout",
     "output_type": "stream",
     "text": [
      "{'a': 1, 'b': 3, 'c': 4}\n"
     ]
    }
   ],
   "source": [
    "novo_dic = {'b': 3, 'c': 4}\n",
    "meu_dic.update(novo_dic)\n",
    "print(meu_dic)"
   ]
  },
  {
   "cell_type": "code",
   "execution_count": null,
   "id": "559b6c0c-8498-4262-a153-1ea83ac764a7",
   "metadata": {},
   "outputs": [],
   "source": []
  }
 ],
 "metadata": {
  "kernelspec": {
   "display_name": "Python 3 (ipykernel)",
   "language": "python",
   "name": "python3"
  },
  "language_info": {
   "codemirror_mode": {
    "name": "ipython",
    "version": 3
   },
   "file_extension": ".py",
   "mimetype": "text/x-python",
   "name": "python",
   "nbconvert_exporter": "python",
   "pygments_lexer": "ipython3",
   "version": "3.11.4"
  }
 },
 "nbformat": 4,
 "nbformat_minor": 5
}
