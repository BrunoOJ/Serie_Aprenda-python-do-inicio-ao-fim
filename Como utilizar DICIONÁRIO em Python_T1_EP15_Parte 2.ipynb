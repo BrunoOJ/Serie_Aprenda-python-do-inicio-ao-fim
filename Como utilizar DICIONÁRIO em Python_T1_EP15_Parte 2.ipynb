{
 "cells": [
  {
   "cell_type": "markdown",
   "id": "5d7feb41-c429-4740-846f-b04607b9d5af",
   "metadata": {},
   "source": [
    "# TEMPORADA 1: PYTHON - DICIONÁRIO\n",
    "### T1:E15 - PYTHON_DICIONÁRIO - PARTE 2\n",
    "\n",
    "Em Python, um dicionário é uma estrutura de dados que permite armazenar pares de chave-valor. Cada chave em um dicionário é única e mapeia para um valor específico. "
   ]
  },
  {
   "cell_type": "markdown",
   "id": "8725cc94-04d7-42b8-9a97-90bdd9ba1c7e",
   "metadata": {},
   "source": [
    "Aqui estão algumas características-chave dos dicionários em Python:\n",
    "\n",
    "**Unicidade das Chaves:** \n",
    "Cada chave em um dicionário é única. Isso significa que não pode haver duas chaves iguais em um mesmo dicionário.\n",
    "\n",
    "**Mutabilidade:**\n",
    "Dicionários são mutáveis, o que significa que é possível adicionar, modificar e remover elementos após a sua criação.\n",
    "\n",
    "**Heterogeneidade:** Os valores associados às chaves podem ser de qualquer tipo, incluindo números, strings, listas ou até mesmo outros dicionários.\n",
    "\n",
    "**Sintaxe:** A sintaxe básica para criar um dicionário em Python é usando chaves {} e separando os pares chave-valor por dois-pontos :. Por exemplo:"
   ]
  },
  {
   "cell_type": "code",
   "execution_count": 1,
   "id": "3363c097-1008-4aaf-95dd-2fa958fad1e5",
   "metadata": {},
   "outputs": [
    {
     "name": "stdout",
     "output_type": "stream",
     "text": [
      "{'a': 1, 'b': 2, 'c': 3}\n"
     ]
    }
   ],
   "source": [
    "# dict.pop(key, default=None): Remove a chave especificada e retorna o valor associado a ela. \n",
    "\n",
    "meu_dic = {'a': 1, 'b': 2, 'c': 3}\n",
    "print(meu_dic)"
   ]
  },
  {
   "cell_type": "code",
   "execution_count": 2,
   "id": "d9d4ee3a-3db8-4ba5-bce9-f10012e71d77",
   "metadata": {},
   "outputs": [
    {
     "name": "stdout",
     "output_type": "stream",
     "text": [
      "{'a': 1, 'c': 3}\n"
     ]
    }
   ],
   "source": [
    "meu_dic.pop('b') \n",
    "print(meu_dic)"
   ]
  },
  {
   "cell_type": "code",
   "execution_count": 3,
   "id": "749568ed-8abf-442e-a7d2-41aa06fbeec4",
   "metadata": {},
   "outputs": [
    {
     "name": "stdout",
     "output_type": "stream",
     "text": [
      "{'a': 1, 'b': 2, 'c': 3, 'd': 4}\n"
     ]
    }
   ],
   "source": [
    "# dict.popitem(): Remove e retorna o último par chave-valor do dicionário. Exemplo:\n",
    "\n",
    "meu_dic = {'a': 1, 'b': 2, 'c': 3, 'd': 4}\n",
    "print(meu_dic)"
   ]
  },
  {
   "cell_type": "code",
   "execution_count": 4,
   "id": "726f29e9-c486-4d35-ad75-c44f9d9e86a4",
   "metadata": {},
   "outputs": [
    {
     "name": "stdout",
     "output_type": "stream",
     "text": [
      "('d', 4)\n",
      "{'a': 1, 'b': 2, 'c': 3}\n"
     ]
    }
   ],
   "source": [
    "remove_item = meu_dic.popitem()\n",
    "print(remove_item)  \n",
    "print(meu_dic)"
   ]
  },
  {
   "cell_type": "code",
   "execution_count": 5,
   "id": "9a5b34af-c705-4e12-acb1-c85e7f86ef13",
   "metadata": {},
   "outputs": [
    {
     "name": "stdout",
     "output_type": "stream",
     "text": [
      "{'a': 1, 'b': 2, 'c': 3}\n"
     ]
    }
   ],
   "source": [
    "# dict.clear(): Remove todos os elementos do dicionário, deixando-o vazio. Exemplo:\n",
    "\n",
    "meu_dic = {'a': 1, 'b': 2, 'c': 3}\n",
    "print(meu_dic)"
   ]
  },
  {
   "cell_type": "code",
   "execution_count": 6,
   "id": "a73fffe9-54b9-4940-b392-dc7d01e95128",
   "metadata": {},
   "outputs": [
    {
     "name": "stdout",
     "output_type": "stream",
     "text": [
      "{}\n"
     ]
    }
   ],
   "source": [
    "meu_dic.clear()\n",
    "print(meu_dic)"
   ]
  },
  {
   "cell_type": "code",
   "execution_count": 7,
   "id": "b05f334f-4bdf-41e8-826c-c48bd2a06e2a",
   "metadata": {},
   "outputs": [
    {
     "name": "stdout",
     "output_type": "stream",
     "text": [
      "{'a': 1, 'b': 2}\n"
     ]
    }
   ],
   "source": [
    "# dict.setdefault(key, default=None): Retorna o valor associado à chave especificada. \n",
    "# Se a chave não existir, insere a chave com o valor padrão (padrão é None se não for especificado) \n",
    "# e retorna esse valor. Exemplo:\n",
    "\n",
    "meu_dic = {'a': 1, 'b': 2}\n",
    "print(meu_dic)"
   ]
  },
  {
   "cell_type": "code",
   "execution_count": 8,
   "id": "578ebc93-905b-45b7-b7d3-d7e13a138ac7",
   "metadata": {},
   "outputs": [
    {
     "name": "stdout",
     "output_type": "stream",
     "text": [
      "2\n",
      "{'a': 1, 'b': 2}\n"
     ]
    }
   ],
   "source": [
    "valor = meu_dic.setdefault('b')\n",
    "print(valor)    \n",
    "print(meu_dic)"
   ]
  },
  {
   "cell_type": "code",
   "execution_count": 9,
   "id": "c1496e12-6256-4e40-b4e0-75c63733f827",
   "metadata": {},
   "outputs": [
    {
     "name": "stdout",
     "output_type": "stream",
     "text": [
      "{'a': 1, 'b': 2, 'c': 3}\n"
     ]
    }
   ],
   "source": [
    "# dict.fromkeys(iterable, value=None): Cria um novo dicionário com chaves a partir do iterable \n",
    "# fornecido e todos os valores inicializados com um valor padrão (padrão é None se não for especificado). \n",
    "# Exemplo:\n",
    "\n",
    "meu_dic = {'a': 1, 'b': 2, 'c': 3}\n",
    "print(meu_dic)"
   ]
  },
  {
   "cell_type": "code",
   "execution_count": 10,
   "id": "29d9b0ff-e33f-46bf-8569-9af36c04768b",
   "metadata": {},
   "outputs": [
    {
     "name": "stdout",
     "output_type": "stream",
     "text": [
      "{'a': 0, 'b': 0, 'c': 0}\n"
     ]
    }
   ],
   "source": [
    "meu_dic_0 = dict.fromkeys(meu_dic, 0)\n",
    "print(meu_dic_0)"
   ]
  },
  {
   "cell_type": "code",
   "execution_count": 11,
   "id": "1a90f0a0-f731-4849-866e-5b4e664b45c2",
   "metadata": {},
   "outputs": [
    {
     "name": "stdout",
     "output_type": "stream",
     "text": [
      "{'0': 0, '1': 1, '2': 4, '3': 9, '4': 16, '5': 25, '6': 36, '7': 49, '8': 64, '9': 81}\n"
     ]
    }
   ],
   "source": [
    "# Populando um dicionário utilizando o laço \"for\"\n",
    "\n",
    "meu_dicionario = {}\n",
    "for i in range(0,10):\n",
    "    meu_dicionario[f'{i}'] = i*i\n",
    "print(meu_dicionario)"
   ]
  },
  {
   "cell_type": "code",
   "execution_count": 12,
   "id": "e98f3d4d-d71e-43ab-aff7-495eb2579801",
   "metadata": {},
   "outputs": [
    {
     "name": "stdout",
     "output_type": "stream",
     "text": [
      "{'a': 1, 'b': 2, 'c': 3, 'd': 4, 'e': 5}\n"
     ]
    }
   ],
   "source": [
    "# Criando um dicionário a partir de duas listas (Lista com as chaves e listas com os valores)\n",
    "lista_chave = ['a','b','c','d','e']\n",
    "lista_valor = [1,2,3,4,5]\n",
    "\n",
    "dic_lista = {}\n",
    "for i in range(len(lista_chave)):\n",
    "    dic_lista[lista_chave[i]] = lista_valor[i]\n",
    "print(dic_lista)"
   ]
  },
  {
   "cell_type": "code",
   "execution_count": null,
   "id": "89001dc3-59e7-4736-8ebf-1272309a7211",
   "metadata": {},
   "outputs": [],
   "source": []
  }
 ],
 "metadata": {
  "kernelspec": {
   "display_name": "Python 3 (ipykernel)",
   "language": "python",
   "name": "python3"
  },
  "language_info": {
   "codemirror_mode": {
    "name": "ipython",
    "version": 3
   },
   "file_extension": ".py",
   "mimetype": "text/x-python",
   "name": "python",
   "nbconvert_exporter": "python",
   "pygments_lexer": "ipython3",
   "version": "3.11.4"
  }
 },
 "nbformat": 4,
 "nbformat_minor": 5
}
