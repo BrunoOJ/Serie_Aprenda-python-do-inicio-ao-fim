{
 "cells": [
  {
   "cell_type": "markdown",
   "id": "5d7feb41-c429-4740-846f-b04607b9d5af",
   "metadata": {},
   "source": [
    "# TEMPORADA 1: PYTHON - CRIANDO UM SISTEMA DE CADASTRO SIMPLES\n",
    "### T1:E20 - PYTHON_SISTEMA DE CADASTRO"
   ]
  },
  {
   "cell_type": "code",
   "execution_count": 1,
   "id": "4348a8a7-7f06-45c0-b895-de44e395b8e3",
   "metadata": {},
   "outputs": [],
   "source": [
    "def cadastrar_cliente():\n",
    "    nome = input(\"Digite o nome: \")\n",
    "    idade = int(input(\"Digite a idade: \"))\n",
    "    email = input(\"Digite o email: \")\n",
    "    cliente = {\"Nome\":nome,\"Idade\":idade,\"Email\":email}\n",
    "    return cliente"
   ]
  },
  {
   "cell_type": "code",
   "execution_count": null,
   "id": "0aa7db51-4775-4e1b-ad39-344a23a6ba13",
   "metadata": {},
   "outputs": [
    {
     "name": "stdout",
     "output_type": "stream",
     "text": [
      "=======CADASTRO DE CLIENTES=======\n",
      "1 - Cadastrar Cliente\n",
      "2 - Exibir Clientes\n",
      "3 - Sair do Programa\n"
     ]
    },
    {
     "name": "stdin",
     "output_type": "stream",
     "text": [
      "Digite a opção desejada:  2\n"
     ]
    },
    {
     "name": "stdout",
     "output_type": "stream",
     "text": [
      "=======CADASTRO DE CLIENTES=======\n",
      "1 - Cadastrar Cliente\n",
      "2 - Exibir Clientes\n",
      "3 - Sair do Programa\n"
     ]
    },
    {
     "name": "stdin",
     "output_type": "stream",
     "text": [
      "Digite a opção desejada:  1\n",
      "Digite o nome:  bruno\n",
      "Digite a idade:  45\n",
      "Digite o email:  bruno@gmail\n"
     ]
    },
    {
     "name": "stdout",
     "output_type": "stream",
     "text": [
      "Cliente foi adicionado com sucesso!!\n",
      "=======CADASTRO DE CLIENTES=======\n",
      "1 - Cadastrar Cliente\n",
      "2 - Exibir Clientes\n",
      "3 - Sair do Programa\n"
     ]
    },
    {
     "name": "stdin",
     "output_type": "stream",
     "text": [
      "Digite a opção desejada:  1\n",
      "Digite o nome:  João\n",
      "Digite a idade:  30\n",
      "Digite o email:  joao@gmail\n"
     ]
    },
    {
     "name": "stdout",
     "output_type": "stream",
     "text": [
      "Cliente foi adicionado com sucesso!!\n",
      "=======CADASTRO DE CLIENTES=======\n",
      "1 - Cadastrar Cliente\n",
      "2 - Exibir Clientes\n",
      "3 - Sair do Programa\n"
     ]
    },
    {
     "name": "stdin",
     "output_type": "stream",
     "text": [
      "Digite a opção desejada:  1\n",
      "Digite o nome:  Maria\n",
      "Digite a idade:  25\n",
      "Digite o email:  maria@gmail\n"
     ]
    },
    {
     "name": "stdout",
     "output_type": "stream",
     "text": [
      "Cliente foi adicionado com sucesso!!\n",
      "=======CADASTRO DE CLIENTES=======\n",
      "1 - Cadastrar Cliente\n",
      "2 - Exibir Clientes\n",
      "3 - Sair do Programa\n"
     ]
    },
    {
     "name": "stdin",
     "output_type": "stream",
     "text": [
      "Digite a opção desejada:  2\n"
     ]
    },
    {
     "name": "stdout",
     "output_type": "stream",
     "text": [
      "{'Nome': 'bruno', 'Idade': 45, 'Email': 'bruno@gmail'}\n",
      "{'Nome': 'João', 'Idade': 30, 'Email': 'joao@gmail'}\n",
      "{'Nome': 'Maria', 'Idade': 25, 'Email': 'maria@gmail'}\n",
      "=======CADASTRO DE CLIENTES=======\n",
      "1 - Cadastrar Cliente\n",
      "2 - Exibir Clientes\n",
      "3 - Sair do Programa\n"
     ]
    }
   ],
   "source": [
    "lista_clientes = []\n",
    "\n",
    "while True:\n",
    "    print(\"=======CADASTRO DE CLIENTES=======\")\n",
    "    print(\"1 - Cadastrar Cliente\")\n",
    "    print(\"2 - Exibir Clientes\")\n",
    "    print(\"3 - Sair do Programa\")\n",
    "    opcao = int(input(\"Digite a opção desejada: \"))\n",
    "\n",
    "    if opcao == 1:\n",
    "        resp_cliente = cadastrar_cliente()\n",
    "        lista_clientes.append(resp_cliente)\n",
    "        print(\"Cliente foi adicionado com sucesso!!\")\n",
    "\n",
    "    elif opcao == 2:\n",
    "        for i in lista_clientes:\n",
    "            print(i)\n",
    "\n",
    "    elif opcao == 3:\n",
    "        print(\"O programa foi encerrado!!!\")\n",
    "        break\n",
    "    else:\n",
    "        print(\"Opção inválida!!\")"
   ]
  },
  {
   "cell_type": "code",
   "execution_count": null,
   "id": "8e5d9751-84db-46bf-83d9-c8c4dcd6ba8b",
   "metadata": {},
   "outputs": [],
   "source": []
  },
  {
   "cell_type": "code",
   "execution_count": null,
   "id": "f467e034-f415-467f-834e-4e11ae64d3a7",
   "metadata": {},
   "outputs": [],
   "source": []
  },
  {
   "cell_type": "code",
   "execution_count": null,
   "id": "7bd4f7a2-1180-47fb-a5fb-52e1dde46564",
   "metadata": {},
   "outputs": [],
   "source": []
  },
  {
   "cell_type": "code",
   "execution_count": null,
   "id": "1afc7caa-8f6d-440e-99aa-54d7b6a10f11",
   "metadata": {},
   "outputs": [],
   "source": []
  },
  {
   "cell_type": "code",
   "execution_count": null,
   "id": "8a772177-9ba8-4b0b-b1fd-cc05f4c389fa",
   "metadata": {},
   "outputs": [],
   "source": []
  },
  {
   "cell_type": "code",
   "execution_count": null,
   "id": "e9aa9106-037b-4972-a388-856877744e40",
   "metadata": {},
   "outputs": [],
   "source": []
  },
  {
   "cell_type": "code",
   "execution_count": null,
   "id": "62bfc0b0-b2f1-49b1-8ffb-ac4e9496dc8c",
   "metadata": {},
   "outputs": [],
   "source": []
  },
  {
   "cell_type": "code",
   "execution_count": null,
   "id": "addf51ac-f394-429a-b1ff-fbb74f653d57",
   "metadata": {},
   "outputs": [],
   "source": []
  },
  {
   "cell_type": "code",
   "execution_count": null,
   "id": "822da779-4799-4ba7-a573-711a687999d6",
   "metadata": {},
   "outputs": [],
   "source": []
  },
  {
   "cell_type": "code",
   "execution_count": null,
   "id": "64ecf7f6-b29c-4103-a141-2e288ab66148",
   "metadata": {},
   "outputs": [],
   "source": []
  },
  {
   "cell_type": "code",
   "execution_count": null,
   "id": "a762cd88-f4a9-46ff-8e98-0bb467ba7093",
   "metadata": {},
   "outputs": [],
   "source": []
  },
  {
   "cell_type": "code",
   "execution_count": null,
   "id": "b3818c18-0335-4671-8d7b-cb91f7732a70",
   "metadata": {},
   "outputs": [],
   "source": []
  },
  {
   "cell_type": "code",
   "execution_count": null,
   "id": "535cd2b5-8b35-42b8-9083-86d3bbd78263",
   "metadata": {},
   "outputs": [],
   "source": []
  },
  {
   "cell_type": "code",
   "execution_count": null,
   "id": "5a901cd1-d5ee-448f-95c3-bd1f20c02b46",
   "metadata": {},
   "outputs": [],
   "source": []
  },
  {
   "cell_type": "code",
   "execution_count": null,
   "id": "84f39d12-bcd4-4264-96fb-e5af76b49516",
   "metadata": {},
   "outputs": [],
   "source": []
  },
  {
   "cell_type": "code",
   "execution_count": null,
   "id": "8095526b-9386-449c-94da-79df98f3e4b5",
   "metadata": {},
   "outputs": [],
   "source": []
  },
  {
   "cell_type": "code",
   "execution_count": null,
   "id": "18db9333-9959-498d-b700-e86252a11424",
   "metadata": {},
   "outputs": [],
   "source": []
  },
  {
   "cell_type": "code",
   "execution_count": null,
   "id": "4301e538-2942-42d3-a133-d75fbf0e75df",
   "metadata": {},
   "outputs": [],
   "source": []
  },
  {
   "cell_type": "code",
   "execution_count": null,
   "id": "f6ff4f80-e6d8-4bae-bad1-dcf46aff3928",
   "metadata": {},
   "outputs": [],
   "source": []
  },
  {
   "cell_type": "code",
   "execution_count": null,
   "id": "616635f6-1fd9-4562-8203-8114e82f752a",
   "metadata": {},
   "outputs": [],
   "source": []
  },
  {
   "cell_type": "code",
   "execution_count": null,
   "id": "b417f276-b33e-495c-8e41-8cd805fc5232",
   "metadata": {},
   "outputs": [],
   "source": []
  },
  {
   "cell_type": "code",
   "execution_count": null,
   "id": "0c8fbc2c-51ac-48bd-86bb-cbabfffbe002",
   "metadata": {},
   "outputs": [],
   "source": []
  },
  {
   "cell_type": "code",
   "execution_count": null,
   "id": "7b92d169-5690-4b46-b645-678703309431",
   "metadata": {},
   "outputs": [],
   "source": []
  },
  {
   "cell_type": "code",
   "execution_count": null,
   "id": "559ff04b-bb61-4103-909b-82d6061e16b1",
   "metadata": {},
   "outputs": [],
   "source": []
  },
  {
   "cell_type": "code",
   "execution_count": null,
   "id": "a6fd3add-da37-4062-a5d0-f06d7b30f4e1",
   "metadata": {},
   "outputs": [],
   "source": []
  },
  {
   "cell_type": "code",
   "execution_count": null,
   "id": "61e5d96c-eeb3-4c26-ad6a-a83ad61232a0",
   "metadata": {},
   "outputs": [],
   "source": []
  },
  {
   "cell_type": "code",
   "execution_count": null,
   "id": "9638384c-f7de-4255-b137-f4d4ca23df67",
   "metadata": {},
   "outputs": [],
   "source": []
  },
  {
   "cell_type": "code",
   "execution_count": null,
   "id": "93aad4d6-b391-45e0-8fb6-f976d4043ed1",
   "metadata": {},
   "outputs": [],
   "source": []
  },
  {
   "cell_type": "code",
   "execution_count": null,
   "id": "7aefbf24-5f83-494d-af56-0744579cc684",
   "metadata": {},
   "outputs": [],
   "source": []
  },
  {
   "cell_type": "code",
   "execution_count": null,
   "id": "cb7065e0-0a17-47cf-8f02-a4fe13c40c42",
   "metadata": {},
   "outputs": [],
   "source": []
  },
  {
   "cell_type": "code",
   "execution_count": null,
   "id": "62c4c6a6-7741-4ea2-9468-2c240ef2ad22",
   "metadata": {},
   "outputs": [],
   "source": []
  },
  {
   "cell_type": "code",
   "execution_count": null,
   "id": "a6133b93-0e71-480c-959b-b7e9286663c0",
   "metadata": {},
   "outputs": [],
   "source": []
  },
  {
   "cell_type": "code",
   "execution_count": null,
   "id": "0e4b45f4-622b-478c-b64b-93d313d1ee5d",
   "metadata": {},
   "outputs": [],
   "source": []
  },
  {
   "cell_type": "code",
   "execution_count": null,
   "id": "cec6f232-e39d-4a94-9ec2-fda956388425",
   "metadata": {},
   "outputs": [],
   "source": []
  },
  {
   "cell_type": "code",
   "execution_count": null,
   "id": "bb8962fb-e233-414a-a25c-cd7b7237429a",
   "metadata": {},
   "outputs": [],
   "source": []
  },
  {
   "cell_type": "code",
   "execution_count": null,
   "id": "c637981a-48bc-459d-a9b1-8cace3c1b307",
   "metadata": {},
   "outputs": [],
   "source": []
  },
  {
   "cell_type": "code",
   "execution_count": null,
   "id": "8292a0f1-daf3-4d2a-bf8d-f7ff127740b6",
   "metadata": {},
   "outputs": [],
   "source": []
  },
  {
   "cell_type": "code",
   "execution_count": null,
   "id": "0b6247f6-1789-4300-af80-25504e73702d",
   "metadata": {},
   "outputs": [],
   "source": []
  },
  {
   "cell_type": "code",
   "execution_count": null,
   "id": "c4863093-9467-4f2f-84b5-58892dab996d",
   "metadata": {},
   "outputs": [],
   "source": []
  },
  {
   "cell_type": "code",
   "execution_count": null,
   "id": "aca28227-694e-4c32-9923-9e8937822b22",
   "metadata": {},
   "outputs": [],
   "source": []
  },
  {
   "cell_type": "code",
   "execution_count": null,
   "id": "9342d6f7-7698-4670-b8d6-c764e554a9c1",
   "metadata": {},
   "outputs": [],
   "source": []
  },
  {
   "cell_type": "code",
   "execution_count": null,
   "id": "58e522e9-6154-4aaa-8f39-2f3a50531ca1",
   "metadata": {},
   "outputs": [],
   "source": []
  },
  {
   "cell_type": "code",
   "execution_count": null,
   "id": "65f96210-f9ab-41ab-bcba-2d7c0ff03a4f",
   "metadata": {},
   "outputs": [],
   "source": []
  },
  {
   "cell_type": "code",
   "execution_count": null,
   "id": "d3d3f95c-0a6c-4bde-8bdf-49be343d78f7",
   "metadata": {},
   "outputs": [],
   "source": []
  },
  {
   "cell_type": "code",
   "execution_count": null,
   "id": "9ca18d05-9e32-4f44-9f23-9f41f222c750",
   "metadata": {},
   "outputs": [],
   "source": []
  },
  {
   "cell_type": "code",
   "execution_count": null,
   "id": "2196fa6c-02b0-4189-b0fb-8c33aaa1385e",
   "metadata": {},
   "outputs": [],
   "source": []
  },
  {
   "cell_type": "code",
   "execution_count": null,
   "id": "a1512125-3102-45ef-b044-2978069a4f4f",
   "metadata": {},
   "outputs": [],
   "source": []
  },
  {
   "cell_type": "code",
   "execution_count": null,
   "id": "b276fee8-1f3f-424b-a2ee-c735d89a4b1e",
   "metadata": {},
   "outputs": [],
   "source": []
  },
  {
   "cell_type": "code",
   "execution_count": null,
   "id": "13f9c8dc-a0b5-4890-8b58-1208efbc2bc2",
   "metadata": {},
   "outputs": [],
   "source": []
  },
  {
   "cell_type": "code",
   "execution_count": null,
   "id": "94612b77-521d-42ae-9845-1ec5014fc547",
   "metadata": {},
   "outputs": [],
   "source": []
  },
  {
   "cell_type": "code",
   "execution_count": null,
   "id": "e6e531e3-626d-49a4-b374-aa91a6b224c1",
   "metadata": {},
   "outputs": [],
   "source": []
  },
  {
   "cell_type": "code",
   "execution_count": null,
   "id": "621f5845-6c3c-4307-bb20-dbe1a3fb3936",
   "metadata": {},
   "outputs": [],
   "source": []
  },
  {
   "cell_type": "code",
   "execution_count": null,
   "id": "3bc4efde-1150-4e94-a029-9484f6327123",
   "metadata": {},
   "outputs": [],
   "source": []
  },
  {
   "cell_type": "code",
   "execution_count": null,
   "id": "1ef05ea0-845d-405d-b31a-57683fc79f91",
   "metadata": {},
   "outputs": [],
   "source": []
  },
  {
   "cell_type": "code",
   "execution_count": null,
   "id": "c445e691-7034-40a2-869e-f0fe4548f5bf",
   "metadata": {},
   "outputs": [],
   "source": []
  },
  {
   "cell_type": "code",
   "execution_count": null,
   "id": "f0b8c9a6-7541-48c5-bb7c-e70f835450de",
   "metadata": {},
   "outputs": [],
   "source": []
  },
  {
   "cell_type": "code",
   "execution_count": null,
   "id": "69d644ae-c394-4189-ba79-1f234d8497b7",
   "metadata": {},
   "outputs": [],
   "source": []
  },
  {
   "cell_type": "code",
   "execution_count": null,
   "id": "c91db436-4ce0-4b58-bad4-c96fd7faffc8",
   "metadata": {},
   "outputs": [],
   "source": []
  },
  {
   "cell_type": "code",
   "execution_count": null,
   "id": "07d3be63-5b15-44e0-9770-92ede9a11a53",
   "metadata": {},
   "outputs": [],
   "source": []
  },
  {
   "cell_type": "code",
   "execution_count": null,
   "id": "d1f55e08-5354-4000-bb0d-cd758498ce61",
   "metadata": {},
   "outputs": [],
   "source": []
  },
  {
   "cell_type": "code",
   "execution_count": null,
   "id": "8b46d7cc-149e-4c69-9ebb-af40ba85b12b",
   "metadata": {},
   "outputs": [],
   "source": []
  },
  {
   "cell_type": "code",
   "execution_count": null,
   "id": "f2552ffb-2b9b-486b-b828-50b8c4ef1b73",
   "metadata": {},
   "outputs": [],
   "source": []
  },
  {
   "cell_type": "code",
   "execution_count": null,
   "id": "eff82ee8-4cfb-476f-a595-e35bc65de037",
   "metadata": {},
   "outputs": [],
   "source": []
  },
  {
   "cell_type": "code",
   "execution_count": null,
   "id": "303151a7-6ae7-442b-9bf6-9125a0947cb3",
   "metadata": {},
   "outputs": [],
   "source": []
  },
  {
   "cell_type": "code",
   "execution_count": 1,
   "id": "3a8dfacc-607d-4587-b9b3-d6256fc51e38",
   "metadata": {},
   "outputs": [],
   "source": [
    "def cadastro_cliente():\n",
    "    nome = input(\"Digite o Nome: \")\n",
    "    idade = int(input(\"Digite a Idade: \"))\n",
    "    email = input(\"Digite o Email: \")\n",
    "    cliente = {\"Nome\":nome,\"Idade\":idade,\"Email\":email}\n",
    "    return cliente"
   ]
  },
  {
   "cell_type": "code",
   "execution_count": 2,
   "id": "7ccca8ea-796c-49b4-b867-40842b3ce609",
   "metadata": {},
   "outputs": [
    {
     "name": "stdout",
     "output_type": "stream",
     "text": [
      "========CADASTRO DE CLIENTES=======\n",
      "1 - Cadastrar cliente\n",
      "2 - Exibir clientes\n",
      "3 - Sair do programa\n"
     ]
    },
    {
     "name": "stdin",
     "output_type": "stream",
     "text": [
      "Digite a opção desejada:  2\n"
     ]
    },
    {
     "name": "stdout",
     "output_type": "stream",
     "text": [
      "========CADASTRO DE CLIENTES=======\n",
      "1 - Cadastrar cliente\n",
      "2 - Exibir clientes\n",
      "3 - Sair do programa\n"
     ]
    },
    {
     "name": "stdin",
     "output_type": "stream",
     "text": [
      "Digite a opção desejada:  1\n",
      "Digite o Nome:  aaaa\n",
      "Digite a Idade:  1\n",
      "Digite o Email:  aaa@gmail\n"
     ]
    },
    {
     "name": "stdout",
     "output_type": "stream",
     "text": [
      "Cliente cadastrado com sucesso!!\n",
      "========CADASTRO DE CLIENTES=======\n",
      "1 - Cadastrar cliente\n",
      "2 - Exibir clientes\n",
      "3 - Sair do programa\n"
     ]
    },
    {
     "name": "stdin",
     "output_type": "stream",
     "text": [
      "Digite a opção desejada:  1\n",
      "Digite o Nome:  bbbbb\n",
      "Digite a Idade:  2\n",
      "Digite o Email:  bbbb@gmail\n"
     ]
    },
    {
     "name": "stdout",
     "output_type": "stream",
     "text": [
      "Cliente cadastrado com sucesso!!\n",
      "========CADASTRO DE CLIENTES=======\n",
      "1 - Cadastrar cliente\n",
      "2 - Exibir clientes\n",
      "3 - Sair do programa\n"
     ]
    },
    {
     "name": "stdin",
     "output_type": "stream",
     "text": [
      "Digite a opção desejada:  2\n"
     ]
    },
    {
     "name": "stdout",
     "output_type": "stream",
     "text": [
      "{'Nome': 'aaaa', 'Idade': 1, 'Email': 'aaa@gmail'}\n",
      "{'Nome': 'bbbbb', 'Idade': 2, 'Email': 'bbbb@gmail'}\n",
      "========CADASTRO DE CLIENTES=======\n",
      "1 - Cadastrar cliente\n",
      "2 - Exibir clientes\n",
      "3 - Sair do programa\n"
     ]
    },
    {
     "name": "stdin",
     "output_type": "stream",
     "text": [
      "Digite a opção desejada:  3\n"
     ]
    },
    {
     "name": "stdout",
     "output_type": "stream",
     "text": [
      "Programa Finalizado!\n"
     ]
    }
   ],
   "source": [
    "clientes = []\n",
    "\n",
    "while True:\n",
    "    print(\"========CADASTRO DE CLIENTES=======\")\n",
    "    print(\"1 - Cadastrar cliente\")\n",
    "    print(\"2 - Exibir clientes\")\n",
    "    print(\"3 - Sair do programa\")\n",
    "    opcao = int(input(\"Digite a opção desejada: \"))\n",
    "\n",
    "    if opcao == 1:\n",
    "        retorno_cliente = cadastro_cliente()\n",
    "        clientes.append(retorno_cliente)\n",
    "        print(\"Cliente cadastrado com sucesso!!\")\n",
    "\n",
    "    elif opcao == 2:\n",
    "        for i in clientes:\n",
    "            print(i)\n",
    "    elif opcao == 3:\n",
    "        print(\"Programa Finalizado!\")\n",
    "        break\n",
    "    else:\n",
    "        print(\"Opção incorreta\")\n",
    "    "
   ]
  },
  {
   "cell_type": "code",
   "execution_count": null,
   "id": "b50a4203-4f7f-450f-b78f-c85c06bd424b",
   "metadata": {},
   "outputs": [],
   "source": []
  },
  {
   "cell_type": "code",
   "execution_count": null,
   "id": "a69dd4d9-7ee8-4a9c-99bb-c6084e26bfa0",
   "metadata": {},
   "outputs": [],
   "source": []
  },
  {
   "cell_type": "code",
   "execution_count": null,
   "id": "6694ddc1-d343-46ac-820d-bd1eae79b23b",
   "metadata": {},
   "outputs": [],
   "source": []
  },
  {
   "cell_type": "code",
   "execution_count": null,
   "id": "7b654fc2-a9fb-4de6-b3ed-75b4e9332007",
   "metadata": {},
   "outputs": [],
   "source": []
  },
  {
   "cell_type": "code",
   "execution_count": null,
   "id": "aa3ec3dc-cc29-4b4e-ba63-bf666f48bea0",
   "metadata": {},
   "outputs": [],
   "source": []
  },
  {
   "cell_type": "code",
   "execution_count": null,
   "id": "50bb5d3c-7534-4520-85ac-3d51d2bbdc2d",
   "metadata": {},
   "outputs": [],
   "source": []
  },
  {
   "cell_type": "code",
   "execution_count": null,
   "id": "e2ecf027-d234-4d50-bc2f-e2bd4409e6f0",
   "metadata": {},
   "outputs": [],
   "source": []
  },
  {
   "cell_type": "code",
   "execution_count": null,
   "id": "77a1e5f0-c51f-402e-a8b1-e48cdb88def2",
   "metadata": {},
   "outputs": [],
   "source": []
  },
  {
   "cell_type": "code",
   "execution_count": null,
   "id": "f83be76a-abe2-4e6f-98ac-3a75909414c9",
   "metadata": {},
   "outputs": [],
   "source": []
  },
  {
   "cell_type": "code",
   "execution_count": null,
   "id": "fbee69e1-0245-4647-a66d-c244f4170180",
   "metadata": {},
   "outputs": [],
   "source": []
  },
  {
   "cell_type": "code",
   "execution_count": null,
   "id": "845dc1aa-dc17-4e71-8917-afabf44f70c8",
   "metadata": {},
   "outputs": [],
   "source": []
  },
  {
   "cell_type": "code",
   "execution_count": null,
   "id": "aa0cddc8-974e-4998-8a9a-96120405d851",
   "metadata": {},
   "outputs": [],
   "source": []
  },
  {
   "cell_type": "code",
   "execution_count": null,
   "id": "06e20524-9fad-4536-892e-c8ff0e1e9299",
   "metadata": {},
   "outputs": [],
   "source": []
  },
  {
   "cell_type": "code",
   "execution_count": null,
   "id": "c7982a03-0266-45cf-8071-67e0926a7b38",
   "metadata": {},
   "outputs": [],
   "source": []
  },
  {
   "cell_type": "code",
   "execution_count": null,
   "id": "734a1e33-39d0-40f0-a4aa-b3b529c95d0b",
   "metadata": {},
   "outputs": [],
   "source": []
  },
  {
   "cell_type": "code",
   "execution_count": null,
   "id": "a1d87b99-648d-4c70-b5ca-a2038d8eab2b",
   "metadata": {},
   "outputs": [],
   "source": []
  },
  {
   "cell_type": "code",
   "execution_count": null,
   "id": "1cb5523d-3f31-41a5-8add-f325418adfa7",
   "metadata": {},
   "outputs": [],
   "source": []
  },
  {
   "cell_type": "code",
   "execution_count": null,
   "id": "77095ce1-fa91-421b-a89b-4f013a23ac96",
   "metadata": {},
   "outputs": [],
   "source": []
  },
  {
   "cell_type": "code",
   "execution_count": null,
   "id": "9028c7d9-575a-4c16-b212-989d3dc2526b",
   "metadata": {},
   "outputs": [],
   "source": []
  },
  {
   "cell_type": "code",
   "execution_count": null,
   "id": "dba752b8-6845-42ac-8194-047b2c944c5c",
   "metadata": {},
   "outputs": [],
   "source": []
  },
  {
   "cell_type": "code",
   "execution_count": null,
   "id": "c1d78cfa-a732-4fea-9f56-5fc33d85489e",
   "metadata": {},
   "outputs": [],
   "source": []
  },
  {
   "cell_type": "code",
   "execution_count": null,
   "id": "05758b51-cc2d-4157-b6c8-84b64ae234f8",
   "metadata": {},
   "outputs": [],
   "source": []
  },
  {
   "cell_type": "code",
   "execution_count": null,
   "id": "87ae9da0-27b2-407f-bf5b-2d8722b076a6",
   "metadata": {},
   "outputs": [],
   "source": []
  },
  {
   "cell_type": "code",
   "execution_count": null,
   "id": "4f0b650f-8aad-4d34-87b1-54688f44e001",
   "metadata": {},
   "outputs": [],
   "source": []
  },
  {
   "cell_type": "code",
   "execution_count": null,
   "id": "79c660f0-cc71-4143-b26c-c9c25a48bd00",
   "metadata": {},
   "outputs": [],
   "source": []
  },
  {
   "cell_type": "code",
   "execution_count": null,
   "id": "da772c83-945e-46eb-9dc9-05e0bfd99b6d",
   "metadata": {},
   "outputs": [],
   "source": []
  },
  {
   "cell_type": "code",
   "execution_count": null,
   "id": "51647b20-99b4-4a39-8115-94f5bf262ec3",
   "metadata": {},
   "outputs": [],
   "source": []
  },
  {
   "cell_type": "code",
   "execution_count": null,
   "id": "b39c9a6e-269d-4544-a1b5-22de93fbb5da",
   "metadata": {},
   "outputs": [],
   "source": []
  },
  {
   "cell_type": "code",
   "execution_count": null,
   "id": "6bf8220a-8d5e-45e6-abe6-44ac0a4e36bd",
   "metadata": {},
   "outputs": [],
   "source": []
  },
  {
   "cell_type": "code",
   "execution_count": null,
   "id": "ebdad079-f7d8-4abe-b840-b0bc1680840f",
   "metadata": {},
   "outputs": [],
   "source": []
  },
  {
   "cell_type": "code",
   "execution_count": null,
   "id": "31f35346-a89d-474e-ba78-8d8f770d7df2",
   "metadata": {},
   "outputs": [],
   "source": []
  },
  {
   "cell_type": "code",
   "execution_count": null,
   "id": "0df9b1bf-343a-48d1-9fe4-7c163f2b3069",
   "metadata": {},
   "outputs": [],
   "source": []
  },
  {
   "cell_type": "code",
   "execution_count": null,
   "id": "f2f13f3a-45f7-40f4-b33f-691d0551efb5",
   "metadata": {},
   "outputs": [],
   "source": []
  },
  {
   "cell_type": "code",
   "execution_count": null,
   "id": "6a8804e2-de9b-4f26-a7b7-2f711e8f26b5",
   "metadata": {},
   "outputs": [],
   "source": []
  },
  {
   "cell_type": "code",
   "execution_count": null,
   "id": "249105c9-ff4d-45f8-bfd2-0f71952707fa",
   "metadata": {},
   "outputs": [],
   "source": []
  },
  {
   "cell_type": "code",
   "execution_count": null,
   "id": "4e9527d8-de9a-4932-87ad-6732f5367087",
   "metadata": {},
   "outputs": [],
   "source": []
  },
  {
   "cell_type": "code",
   "execution_count": null,
   "id": "167151bb-96bf-4618-94bb-e810d45a81cf",
   "metadata": {},
   "outputs": [],
   "source": []
  },
  {
   "cell_type": "code",
   "execution_count": null,
   "id": "8e64de9c-8c3a-417d-8304-f075d8beebb0",
   "metadata": {},
   "outputs": [],
   "source": []
  },
  {
   "cell_type": "code",
   "execution_count": null,
   "id": "50622ccb-6ed8-424a-b1e5-876978f6538e",
   "metadata": {},
   "outputs": [],
   "source": []
  },
  {
   "cell_type": "code",
   "execution_count": null,
   "id": "e24d016b-8d1b-423e-b237-0db7e64f30fe",
   "metadata": {},
   "outputs": [],
   "source": []
  },
  {
   "cell_type": "code",
   "execution_count": null,
   "id": "9c2865d0-11ea-4cc4-9e6d-0756bfb57c36",
   "metadata": {},
   "outputs": [],
   "source": []
  },
  {
   "cell_type": "code",
   "execution_count": null,
   "id": "93db57a7-2e13-4463-badf-42232c5457f0",
   "metadata": {},
   "outputs": [],
   "source": []
  },
  {
   "cell_type": "code",
   "execution_count": null,
   "id": "ceb349d7-876b-4ae2-ba97-a44166af0ca3",
   "metadata": {},
   "outputs": [],
   "source": []
  },
  {
   "cell_type": "code",
   "execution_count": null,
   "id": "28d3ddfd-922e-46cc-ac90-4d250ab64edd",
   "metadata": {},
   "outputs": [],
   "source": [
    "def cadastrar_usuario():\n",
    "    nome = input(\"Digite o nome: \")\n",
    "    idade = int(input(\"Digite a idade: \"))\n",
    "    email = input(\"Digite o e-mail: \")\n",
    "\n",
    "    usuario = {'Nome': nome, 'Idade': idade, 'Email': email}\n",
    "    return usuario\n",
    "\n",
    "\n",
    "usuarios = []\n",
    "\n",
    "while True:\n",
    "    print(\"\\n===== Sistema de Cadastro =====\")\n",
    "    print(\"1. Cadastrar usuário\")\n",
    "    print(\"2. Listar usuários\")\n",
    "    print(\"3. Sair\")\n",
    "    escolha = input(\"Escolha uma opção: \")\n",
    "\n",
    "    if escolha == '1':\n",
    "        novo_usuario = cadastrar_usuario()\n",
    "        usuarios.append(novo_usuario)\n",
    "        print(\"Usuário cadastrado com sucesso!\")\n",
    "\n",
    "    elif escolha == '2':\n",
    "        print(\"\\n===== Lista de Usuários =====\")\n",
    "        for usuario in usuarios:\n",
    "            print(f\"Nome: {usuario['Nome']}, Idade: {usuario['Idade']}, Email: {usuario['Email']}\")\n",
    "        print(\"==============================\")\n",
    "\n",
    "    elif escolha == '3':\n",
    "        print(\"Saindo do sistema. Até logo!\")\n",
    "        break\n",
    "\n",
    "    else:\n",
    "        print(\"Opção inválida. Tente novamente.\")\n"
   ]
  },
  {
   "cell_type": "code",
   "execution_count": null,
   "id": "4ea685ac-3b80-4dd9-a60a-a8cb250f3742",
   "metadata": {},
   "outputs": [],
   "source": []
  }
 ],
 "metadata": {
  "kernelspec": {
   "display_name": "Python 3 (ipykernel)",
   "language": "python",
   "name": "python3"
  },
  "language_info": {
   "codemirror_mode": {
    "name": "ipython",
    "version": 3
   },
   "file_extension": ".py",
   "mimetype": "text/x-python",
   "name": "python",
   "nbconvert_exporter": "python",
   "pygments_lexer": "ipython3",
   "version": "3.11.4"
  }
 },
 "nbformat": 4,
 "nbformat_minor": 5
}
