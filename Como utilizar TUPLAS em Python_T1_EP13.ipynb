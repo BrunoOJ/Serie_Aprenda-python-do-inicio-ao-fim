{
 "cells": [
  {
   "cell_type": "markdown",
   "id": "8f460fb7-ebf0-4af1-835b-f9fa29762234",
   "metadata": {},
   "source": [
    "# TEMPORADA 1: PYTHON - TUPLA\n",
    "### T1:E13 - PYTHON_TUPLA \n",
    "\n",
    "Uma tupla é uma estrutura de dados semelhante a uma lista, mas com a diferença principal de ser imutável. Isso significa que, uma vez criada, não é possível adicionar, remover ou modificar elementos na tupla. As tuplas são definidas usando parênteses () ou, opcionalmente, sem parênteses, separando os elementos por vírgula."
   ]
  },
  {
   "cell_type": "markdown",
   "id": "c58cb0c2-c40e-4846-9d97-2be5f47f19a0",
   "metadata": {},
   "source": [
    "Método: **Count**, **index**, **len**, **min**, **max**, **sorted**, **any** e **all**.\n",
    " "
   ]
  },
  {
   "cell_type": "code",
   "execution_count": 1,
   "id": "2d158cb3-cb6c-4136-8e55-6f7c05e70e65",
   "metadata": {},
   "outputs": [
    {
     "name": "stdout",
     "output_type": "stream",
     "text": [
      "()\n",
      "(1, 2, 3, 4, 5)\n",
      "('maçã', 'banana', 'laranja')\n",
      "(1, 2, 3, 4, 5)\n"
     ]
    }
   ],
   "source": [
    "# Criando uma tupla vazia e com elementos.\n",
    "tupla_vazia = ()\n",
    "tupla_numeros = (1, 2, 3, 4, 5)\n",
    "tupla_frutas = ('maçã', 'banana', 'laranja')\n",
    "sem_parênteses = 1,2,3,4,5\n",
    "\n",
    "print(tupla_vazia)\n",
    "print(tupla_numeros)\n",
    "print(tupla_frutas)\n",
    "print(sem_parênteses)"
   ]
  },
  {
   "cell_type": "code",
   "execution_count": 2,
   "id": "5a8518e2-66c0-433d-9c7d-4c26d0157245",
   "metadata": {},
   "outputs": [
    {
     "name": "stdout",
     "output_type": "stream",
     "text": [
      "2\n"
     ]
    }
   ],
   "source": [
    "# count(x): Este método retorna o número de ocorrências do valor x na tupla.\n",
    "\n",
    "tupla = (1, 2, 3, 1, 4, 1, 5, 5)\n",
    "count_1 = tupla.count(5)\n",
    "print(count_1)  "
   ]
  },
  {
   "cell_type": "code",
   "execution_count": 3,
   "id": "d179ddf4-6867-46ce-9f2c-f77e474a8284",
   "metadata": {},
   "outputs": [
    {
     "name": "stdout",
     "output_type": "stream",
     "text": [
      "4\n"
     ]
    }
   ],
   "source": [
    "# index(x, start, end): Retorna o índice da primeira ocorrência do valor x na tupla. \n",
    "# Pode-se fornecer os parâmetros opcionais start e end para restringir a pesquisa dentro \n",
    "# de uma fatia específica da tupla.\n",
    "\n",
    "tupla = (10, 20, 30, 40, 50)\n",
    "index_30 = tupla.index(50)\n",
    "print(index_30)"
   ]
  },
  {
   "cell_type": "code",
   "execution_count": 4,
   "id": "bd97a6ac-6cd0-4093-b46e-36d6854b4362",
   "metadata": {},
   "outputs": [
    {
     "name": "stdout",
     "output_type": "stream",
     "text": [
      "4\n"
     ]
    }
   ],
   "source": [
    "tupla = (10, 20, 30, 40, 30, 50)\n",
    "index_30 = tupla.index(30,3,5)\n",
    "print(index_30)"
   ]
  },
  {
   "cell_type": "code",
   "execution_count": 5,
   "id": "eabb4f98-d2fc-4e5c-b248-38980dbcfca0",
   "metadata": {},
   "outputs": [
    {
     "name": "stdout",
     "output_type": "stream",
     "text": [
      "7\n"
     ]
    }
   ],
   "source": [
    "# len(tupla): Retorna o número de elementos na tupla.\n",
    "\n",
    "tupla = (1, 2, 3, 4, 5, \"teste\", 1.75)\n",
    "tamanho = len(tupla)\n",
    "print(tamanho) "
   ]
  },
  {
   "cell_type": "code",
   "execution_count": 6,
   "id": "6cbd74a1-e2bb-45dc-b6da-df5b50f6773c",
   "metadata": {},
   "outputs": [
    {
     "name": "stdout",
     "output_type": "stream",
     "text": [
      "Valor mínimo:  5\n",
      "Valor máximo:  20\n"
     ]
    }
   ],
   "source": [
    "# max(tupla) e min(tupla): Retorna o valor máximo e mínimo na tupla, respectivamente.\n",
    "\n",
    "tupla = (10, 5, 8, 20, 15)\n",
    "max_valor = max(tupla)\n",
    "min_valor = min(tupla)\n",
    "print(\"Valor mínimo: \", min_valor)\n",
    "print(\"Valor máximo: \", max_valor)"
   ]
  },
  {
   "cell_type": "code",
   "execution_count": 7,
   "id": "719113d7-c25f-4e6b-b13f-e62c59b1fedb",
   "metadata": {},
   "outputs": [
    {
     "name": "stdout",
     "output_type": "stream",
     "text": [
      "[1, 1, 2, 3, 4, 5, 9]\n"
     ]
    }
   ],
   "source": [
    "# sorted(tupla[, key[, reverse]]): Retorna uma nova lista contendo todos os itens da tupla \n",
    "# em ordem crescente ou decrescente. Os parâmetros opcionais reverse e key podem ser usados \n",
    "# para personalizar a ordenação.\n",
    "\n",
    "tupla = (3, 1, 4, 1, 5, 9, 2)\n",
    "tupla_ordenada = sorted(tupla)\n",
    "print(tupla_ordenada)"
   ]
  },
  {
   "cell_type": "code",
   "execution_count": 8,
   "id": "995cdfad-3f8e-4584-b365-da6e72e52a56",
   "metadata": {},
   "outputs": [
    {
     "name": "stdout",
     "output_type": "stream",
     "text": [
      "Tupla original: (3, 1, 4, 1, 5, 9, 2)\n",
      "Tupla ordenada em ordem decrescente: [9, 5, 4, 3, 2, 1, 1]\n"
     ]
    }
   ],
   "source": [
    "tupla = (3, 1, 4, 1, 5, 9, 2)\n",
    "tupla_ordenada_reverse = sorted(tupla, reverse=True)\n",
    "\n",
    "print(\"Tupla original:\", tupla)\n",
    "print(\"Tupla ordenada em ordem decrescente:\", tupla_ordenada_reverse)"
   ]
  },
  {
   "cell_type": "code",
   "execution_count": 11,
   "id": "b41661c3-b107-4a04-acc3-30437085de28",
   "metadata": {},
   "outputs": [
    {
     "name": "stdout",
     "output_type": "stream",
     "text": [
      "Tupla original: [(1, 2, 3), (4, 1, 5), (3, 5, 2), (2, 8, 4)]\n",
      "Tupla ordenada por segundo elemento: [(3, 5, 2), (1, 2, 3), (2, 8, 4), (4, 1, 5)]\n"
     ]
    }
   ],
   "source": [
    "tupla = [(1, 2, 3), (4, 1, 5), (3, 5, 2), (2, 8, 4)]\n",
    "tupla_ordenada_por_segundo_elemento = sorted(tupla, key=lambda x: x[2])\n",
    "\n",
    "print(\"Tupla original:\", tupla)\n",
    "print(\"Tupla ordenada por segundo elemento:\", tupla_ordenada_por_segundo_elemento)"
   ]
  },
  {
   "cell_type": "code",
   "execution_count": 14,
   "id": "0416d63e-f330-49af-9a5b-1125c94bc26d",
   "metadata": {},
   "outputs": [
    {
     "name": "stdout",
     "output_type": "stream",
     "text": [
      "True\n",
      "True\n"
     ]
    }
   ],
   "source": [
    "# any(tupla) e all(tupla): any retorna True se pelo menos um elemento da tupla for True. \n",
    "# all retorna True se todos os elementos da tupla forem True.\n",
    "\n",
    "tupla_true = (True, True, True)\n",
    "any_resultado = any(tupla_true)\n",
    "all_resultado = all(tupla_true)\n",
    "print(any_resultado)\n",
    "print(all_resultado)"
   ]
  },
  {
   "cell_type": "code",
   "execution_count": null,
   "id": "b4904d34-b19e-4d63-8d06-f524efd10b67",
   "metadata": {},
   "outputs": [],
   "source": []
  }
 ],
 "metadata": {
  "kernelspec": {
   "display_name": "Python 3 (ipykernel)",
   "language": "python",
   "name": "python3"
  },
  "language_info": {
   "codemirror_mode": {
    "name": "ipython",
    "version": 3
   },
   "file_extension": ".py",
   "mimetype": "text/x-python",
   "name": "python",
   "nbconvert_exporter": "python",
   "pygments_lexer": "ipython3",
   "version": "3.11.4"
  }
 },
 "nbformat": 4,
 "nbformat_minor": 5
}
