{
 "cells": [
  {
   "cell_type": "markdown",
   "id": "5d7feb41-c429-4740-846f-b04607b9d5af",
   "metadata": {},
   "source": [
    "# TEMPORADA 1: PYTHON - UTILIZANDO O LOOP FOR NO PYTHON\n",
    "### T1:E17 - Loop FOR\n",
    "O loop for no Python é utilizado para iterar sobre sequências (como listas, tuplas, strings) ou outros objetos iteráveis. "
   ]
  },
  {
   "cell_type": "markdown",
   "id": "b7a720f0-12eb-402b-8e5f-ab17be54d02a",
   "metadata": {},
   "source": [
    "#### Estrutura básica do loop **'for'**:\n",
    "\n",
    "**variavel:** Uma variável que assume o valor de cada elemento na sequência em cada iteração.                   \n",
    "**sequencia:** A sequência de elementos sobre a qual o loop irá iterar.."
   ]
  },
  {
   "cell_type": "code",
   "execution_count": null,
   "id": "52626e07-6d01-42e9-80b2-c397aca95ee4",
   "metadata": {},
   "outputs": [],
   "source": [
    "for variavel in sequencia:\n",
    "    # Código a ser repetido para cada elemento na sequência"
   ]
  },
  {
   "cell_type": "markdown",
   "id": "db0acfd4-2937-4ac5-929c-27c6d55a0b7a",
   "metadata": {},
   "source": [
    "#### Exemplos práticos:\n",
    "1. Iterando sobre uma lista:"
   ]
  },
  {
   "cell_type": "code",
   "execution_count": 1,
   "id": "d4d4b129-49af-4175-9e2b-4b6746444de4",
   "metadata": {},
   "outputs": [
    {
     "name": "stdout",
     "output_type": "stream",
     "text": [
      "maçã\n",
      "banana\n",
      "uva\n"
     ]
    }
   ],
   "source": [
    "frutas = ['maçã', 'banana', 'uva']\n",
    "\n",
    "for fruta in frutas:\n",
    "    print(fruta)"
   ]
  },
  {
   "cell_type": "markdown",
   "id": "334c7e8f-35b0-4e55-85f5-b575a79e423f",
   "metadata": {},
   "source": [
    "2. Iterando sobre uma string:"
   ]
  },
  {
   "cell_type": "code",
   "execution_count": 2,
   "id": "534f7721-9fb9-4dbc-b44e-99c768a61df3",
   "metadata": {},
   "outputs": [
    {
     "name": "stdout",
     "output_type": "stream",
     "text": [
      "O\n",
      "l\n",
      "á\n",
      ",\n",
      " \n",
      "P\n",
      "y\n",
      "t\n",
      "h\n",
      "o\n",
      "n\n",
      "!\n"
     ]
    }
   ],
   "source": [
    "mensagem = \"Olá, Python!\"\n",
    "\n",
    "for caractere in mensagem:\n",
    "    print(caractere)"
   ]
  },
  {
   "cell_type": "markdown",
   "id": "dcf98b46-ba3c-47fb-bf1a-493c77bf780f",
   "metadata": {},
   "source": [
    "3. Iterando sobre um intervalo de números:"
   ]
  },
  {
   "cell_type": "code",
   "execution_count": 6,
   "id": "419ca7cb-06d1-4185-bf71-07ebeb3e7d08",
   "metadata": {},
   "outputs": [
    {
     "name": "stdout",
     "output_type": "stream",
     "text": [
      "0\n",
      "3\n",
      "6\n",
      "9\n",
      "12\n",
      "15\n",
      "18\n"
     ]
    }
   ],
   "source": [
    "for numero in range(0,20,3):  # Note que o último número não está incluído\n",
    "    print(numero)"
   ]
  },
  {
   "cell_type": "markdown",
   "id": "046798df-cd6d-4e1f-bc76-a8a4500d01c0",
   "metadata": {},
   "source": [
    "4. Utilizando enumerate para obter índices e valores:"
   ]
  },
  {
   "cell_type": "code",
   "execution_count": 7,
   "id": "f022f4ad-6071-4552-91f3-884febe11ca6",
   "metadata": {},
   "outputs": [
    {
     "name": "stdout",
     "output_type": "stream",
     "text": [
      "Índice: 0, Cor: vermelho\n",
      "Índice: 1, Cor: verde\n",
      "Índice: 2, Cor: azul\n"
     ]
    }
   ],
   "source": [
    "cores = ['vermelho', 'verde', 'azul']\n",
    "\n",
    "for indice, cor in enumerate(cores):\n",
    "    print(f\"Índice: {indice}, Cor: {cor}\")"
   ]
  },
  {
   "cell_type": "markdown",
   "id": "a59e7088-89d3-44ce-93b0-b25c05c1c218",
   "metadata": {},
   "source": [
    "5. Iterando sobre dicionários:"
   ]
  },
  {
   "cell_type": "code",
   "execution_count": 8,
   "id": "f8e182b5-b445-4f8e-acb3-8274793df0fe",
   "metadata": {},
   "outputs": [
    {
     "name": "stdout",
     "output_type": "stream",
     "text": [
      "nome: João\n",
      "idade: 25\n",
      "cidade: São Paulo\n"
     ]
    }
   ],
   "source": [
    "pessoa = {'nome': 'João', 'idade': 25, 'cidade': 'São Paulo'}\n",
    "\n",
    "for chave, valor in pessoa.items():\n",
    "    print(f\"{chave}: {valor}\")"
   ]
  },
  {
   "cell_type": "markdown",
   "id": "9f5504d8-767c-4049-b976-98809a089a7c",
   "metadata": {},
   "source": [
    "6. Iterando sobre tuplas:"
   ]
  },
  {
   "cell_type": "code",
   "execution_count": 9,
   "id": "83a3f9ec-32af-4a28-8853-5adbc76e1e07",
   "metadata": {},
   "outputs": [
    {
     "name": "stdout",
     "output_type": "stream",
     "text": [
      "nome\n",
      "000.000.000-00\n",
      "B positivo\n",
      "45\n"
     ]
    }
   ],
   "source": [
    "tupla = (\"nome\", \"000.000.000-00\", \"B positivo\", \"45\")\n",
    "\n",
    "for dados_pessoais in tupla:\n",
    "    print(dados_pessoais)"
   ]
  },
  {
   "cell_type": "markdown",
   "id": "f1868deb-5c10-44b5-9977-8c2dd3f50eeb",
   "metadata": {},
   "source": [
    "7. Utilizando break e continue:"
   ]
  },
  {
   "cell_type": "code",
   "execution_count": 10,
   "id": "76cd2cea-c4b9-4d0d-add6-6be1318bd16c",
   "metadata": {},
   "outputs": [
    {
     "name": "stdout",
     "output_type": "stream",
     "text": [
      "1\n",
      "2\n",
      "3\n",
      "4\n"
     ]
    }
   ],
   "source": [
    "for numero in range(1, 10):\n",
    "    if numero == 5:\n",
    "        break  # Interrompe o loop quando número é 5\n",
    "    print(numero)"
   ]
  },
  {
   "cell_type": "code",
   "execution_count": 13,
   "id": "ff91ac55-4436-493b-81be-797bf45f2a10",
   "metadata": {},
   "outputs": [
    {
     "name": "stdout",
     "output_type": "stream",
     "text": [
      "1\n",
      "3\n",
      "4\n",
      "5\n",
      "6\n",
      "7\n",
      "8\n",
      "9\n"
     ]
    }
   ],
   "source": [
    "for numero in range(1, 10):\n",
    "    if numero == 2:\n",
    "        continue  # Pula a iteração quando número é 5\n",
    "    print(numero)"
   ]
  },
  {
   "cell_type": "code",
   "execution_count": null,
   "id": "5cd4d9bd-c040-4351-af04-3659ab13238b",
   "metadata": {},
   "outputs": [],
   "source": []
  }
 ],
 "metadata": {
  "kernelspec": {
   "display_name": "Python 3 (ipykernel)",
   "language": "python",
   "name": "python3"
  },
  "language_info": {
   "codemirror_mode": {
    "name": "ipython",
    "version": 3
   },
   "file_extension": ".py",
   "mimetype": "text/x-python",
   "name": "python",
   "nbconvert_exporter": "python",
   "pygments_lexer": "ipython3",
   "version": "3.11.4"
  }
 },
 "nbformat": 4,
 "nbformat_minor": 5
}
