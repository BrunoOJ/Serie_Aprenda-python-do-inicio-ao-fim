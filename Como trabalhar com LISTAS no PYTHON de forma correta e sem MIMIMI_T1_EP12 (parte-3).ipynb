{
 "cells": [
  {
   "cell_type": "markdown",
   "id": "c0ad9230-6631-45a8-8d09-5898eba7eb13",
   "metadata": {},
   "source": [
    "## T1:E12 - PYTHON_LISTA\n",
    "uma lista é uma estrutura de dados que permite armazenar uma coleção de elementos em uma ordem específica. As listas são mutáveis, o que significa que você pode adicionar, remover ou modificar elementos após a criação da lista. Cada elemento em uma lista pode ser de um tipo diferente, e a lista pode crescer ou diminuir dinamicamente conforme necessário.\n"
   ]
  },
  {
   "cell_type": "markdown",
   "id": "f18ef346-3705-4905-8ed7-77e923f67f71",
   "metadata": {},
   "source": [
    "#### PYTHON_LISTA - Função Incorporada do Python(any, all, filter)"
   ]
  },
  {
   "cell_type": "code",
   "execution_count": 1,
   "id": "80d85bf3-cbd6-4790-b489-d85bba0a3dad",
   "metadata": {},
   "outputs": [
    {
     "name": "stdout",
     "output_type": "stream",
     "text": [
      "False\n",
      "True\n",
      "True\n"
     ]
    }
   ],
   "source": [
    "# any(): Retorna True se pelo menos um elemento de um objeto iterável for verdadeiro. Caso contrário, \n",
    "# retorna False.\n",
    "numeros1 = [0, 0, 0, 0, 0]\n",
    "numeros2 = [0, 1, 0, 0, 0]\n",
    "boleano = [True, False, False]\n",
    "tem_elemento_verdadeiro1 = any(numeros1)\n",
    "tem_elemento_verdadeiro2 = any(numeros2)\n",
    "tem_elemento_True = any(boleano)\n",
    "print(tem_elemento_verdadeiro1)\n",
    "print(tem_elemento_verdadeiro2)\n",
    "print(tem_elemento_True)"
   ]
  },
  {
   "cell_type": "code",
   "execution_count": 2,
   "id": "2c9a9baa-ae5e-4a75-a7ee-48652b3cf01d",
   "metadata": {},
   "outputs": [
    {
     "name": "stdout",
     "output_type": "stream",
     "text": [
      "True\n",
      "False\n"
     ]
    }
   ],
   "source": [
    "# all(): Retorna True se todos os elementos de um objeto iterável forem verdadeiros. Caso contrário, \n",
    "# retorna False.\n",
    "numeros1 = [1, 2, 3, 4, 5]\n",
    "numeros2 = [1, -2, 3, -4, 5]\n",
    "todos_elementos_verdadeiros = all(x > 0 for x in numeros1)\n",
    "todos_elementos_falsos = all(x > 0 for x in numeros2)\n",
    "print(todos_elementos_verdadeiros)\n",
    "print(todos_elementos_falsos)"
   ]
  },
  {
   "cell_type": "code",
   "execution_count": 3,
   "id": "87bf020b-1c16-4f71-83b3-c52b25336551",
   "metadata": {},
   "outputs": [
    {
     "name": "stdout",
     "output_type": "stream",
     "text": [
      "[2, 4]\n"
     ]
    }
   ],
   "source": [
    "# filter(): Retorna um iterador que contém os elementos de um objeto iterável para os quais uma \n",
    "# função de filtragem (lambda) retorna True.\n",
    "numeros = [1, 2, 3, 4, 5]\n",
    "numeros_pares = list(filter(lambda x: x % 2 == 0, numeros))\n",
    "print(numeros_pares)"
   ]
  },
  {
   "cell_type": "code",
   "execution_count": 4,
   "id": "24fbf865-5dee-4b52-9505-ac45ca02547c",
   "metadata": {},
   "outputs": [
    {
     "name": "stdout",
     "output_type": "stream",
     "text": [
      "[6, 7, 8, 9, 10]\n"
     ]
    }
   ],
   "source": [
    "numeros = [1, 2, 3, 4, 5, 6, 7, 8, 9, 10]\n",
    "numeros_pares = list(filter(lambda x: x > 5, numeros))\n",
    "print(numeros_pares)"
   ]
  },
  {
   "cell_type": "code",
   "execution_count": null,
   "id": "8952390a-d31d-4012-bb1a-8330d2698fda",
   "metadata": {},
   "outputs": [],
   "source": []
  }
 ],
 "metadata": {
  "kernelspec": {
   "display_name": "Python 3 (ipykernel)",
   "language": "python",
   "name": "python3"
  },
  "language_info": {
   "codemirror_mode": {
    "name": "ipython",
    "version": 3
   },
   "file_extension": ".py",
   "mimetype": "text/x-python",
   "name": "python",
   "nbconvert_exporter": "python",
   "pygments_lexer": "ipython3",
   "version": "3.11.4"
  }
 },
 "nbformat": 4,
 "nbformat_minor": 5
}
