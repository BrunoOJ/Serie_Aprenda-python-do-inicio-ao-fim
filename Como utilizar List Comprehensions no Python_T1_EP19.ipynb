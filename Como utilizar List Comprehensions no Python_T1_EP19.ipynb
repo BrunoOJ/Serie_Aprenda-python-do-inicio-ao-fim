{
 "cells": [
  {
   "cell_type": "markdown",
   "id": "5d7feb41-c429-4740-846f-b04607b9d5af",
   "metadata": {},
   "source": [
    "# TEMPORADA 1: PYTHON - LIST COMPREHENSIONS NO PYTHON\n",
    "### T1:E19 - List Comprehensions\n",
    "As list comprehensions em Python são uma maneira concisa de criar listas. Se você não precisa de uma condição e apenas deseja criar uma lista a partir de uma expressão simples, a sintaxe é mais direta."
   ]
  },
  {
   "cell_type": "code",
   "execution_count": null,
   "id": "e2118d86-fbe2-4fe8-925e-7f1975d55d01",
   "metadata": {},
   "outputs": [],
   "source": [
    "nova_lista = [expressao for elemento in iteravel]"
   ]
  },
  {
   "cell_type": "markdown",
   "id": "ca6afa11-b677-4882-b041-5343770d85f6",
   "metadata": {},
   "source": [
    "#### Exemplo 1: Criar uma lista de quadrados dos números de 1 a 5"
   ]
  },
  {
   "cell_type": "code",
   "execution_count": 1,
   "id": "19ce28ea-6c2d-461d-9ab2-ecc41066989c",
   "metadata": {},
   "outputs": [
    {
     "name": "stdout",
     "output_type": "stream",
     "text": [
      "[1, 4, 9, 16, 25]\n"
     ]
    }
   ],
   "source": [
    "quadrados = [num**2 for num in range(1, 6)] # [1,2,3,4,5]\n",
    "print(quadrados)"
   ]
  },
  {
   "cell_type": "markdown",
   "id": "00ae174d-6098-4b9f-9acb-926df00223bb",
   "metadata": {},
   "source": [
    "#### Exemplo 2: Criar uma lista de strings maiúsculas a partir de uma lista original"
   ]
  },
  {
   "cell_type": "code",
   "execution_count": 2,
   "id": "efce49c3-9850-4c3e-b77c-823a2657e600",
   "metadata": {},
   "outputs": [
    {
     "name": "stdout",
     "output_type": "stream",
     "text": [
      "['PYTHON', 'JAVA', 'C', 'JAVASCRIPT', 'RUBY']\n"
     ]
    }
   ],
   "source": [
    "palavras = [\"python\", \"java\", \"c\", \"javascript\", \"ruby\"]\n",
    "maiusculas = [word.upper() for word in palavras]\n",
    "print(maiusculas)"
   ]
  },
  {
   "cell_type": "markdown",
   "id": "8c2d35c5-130d-4bc3-a6c8-7fbab2feda47",
   "metadata": {},
   "source": [
    "As list comprehensions também podem incluir condições para filtrar os elementos que serão adicionados à lista. A sintaxe geral de uma list comprehension com condição é a seguinte:"
   ]
  },
  {
   "cell_type": "code",
   "execution_count": null,
   "id": "a737f0a2-fe58-4363-ac86-cf48fa1e1a53",
   "metadata": {},
   "outputs": [],
   "source": [
    "nova_lista = [expressao for elemento in iteravel if condicao]"
   ]
  },
  {
   "cell_type": "markdown",
   "id": "2cae6980-891d-41c0-ad2a-d2702f57a2b8",
   "metadata": {},
   "source": [
    "#### Exemplo 3: Filtrar números maiores que 5"
   ]
  },
  {
   "cell_type": "code",
   "execution_count": 3,
   "id": "63a91059-5a72-4623-9022-3da13bd1de06",
   "metadata": {},
   "outputs": [
    {
     "name": "stdout",
     "output_type": "stream",
     "text": [
      "[7, 9, 11, 13, 15]\n"
     ]
    }
   ],
   "source": [
    "original = [1, 3, 5, 7, 9, 11, 13, 15]\n",
    "filtrados = [num for num in original if num > 5]\n",
    "print(filtrados)"
   ]
  },
  {
   "cell_type": "markdown",
   "id": "09368952-3495-4ef2-a024-fb0101586675",
   "metadata": {},
   "source": [
    "#### Exemplo 4: Criar uma lista de quadrados para números pares"
   ]
  },
  {
   "cell_type": "code",
   "execution_count": 4,
   "id": "06ea221f-fd47-4f88-a346-2cf1e8ab4311",
   "metadata": {},
   "outputs": [
    {
     "name": "stdout",
     "output_type": "stream",
     "text": [
      "[4, 16, 36, 64, 100]\n"
     ]
    }
   ],
   "source": [
    "numeros = [1, 2, 3, 4, 5, 6, 7, 8, 9, 10]\n",
    "quadrados_pares = [num**2 for num in numeros if num % 2 == 0]\n",
    "print(quadrados_pares)"
   ]
  },
  {
   "cell_type": "markdown",
   "id": "e281d4d1-ed36-42ca-a61f-a8e08e8893db",
   "metadata": {},
   "source": [
    "#### Exemplo 5: Converter strings para maiúsculas se tiverem mais de 4 caracteres"
   ]
  },
  {
   "cell_type": "code",
   "execution_count": 5,
   "id": "8beda0f2-9761-48cf-97e2-9ac7a4c5f2a0",
   "metadata": {},
   "outputs": [
    {
     "name": "stdout",
     "output_type": "stream",
     "text": [
      "['PYTHON', 'JAVASCRIPT']\n"
     ]
    }
   ],
   "source": [
    "palavras = [\"python\", \"java\", \"c\", \"javascript\", \"ruby\"]\n",
    "maiusculas = [word.upper() for word in palavras if len(word) > 4]\n",
    "print(maiusculas)"
   ]
  },
  {
   "cell_type": "markdown",
   "id": "cc769e78-86cd-4e8d-b862-66d0964bd8cd",
   "metadata": {},
   "source": [
    "#### Exemplo 6: Filtrar apenas números inteiros de uma lista mista\n",
    "\n",
    "O método **isinstance** é uma função incorporada em Python que é usada para verificar se um objeto pertence a uma determinada classe ou tipo."
   ]
  },
  {
   "cell_type": "code",
   "execution_count": 11,
   "id": "15a4d30d-f30f-47b7-a193-ef706acd0c28",
   "metadata": {},
   "outputs": [
    {
     "name": "stdout",
     "output_type": "stream",
     "text": [
      "[{'a': 1, 'b': 3}]\n"
     ]
    }
   ],
   "source": [
    "lista_mista = [1, 2.5, 'python', 3, 4.7, 'java', 5, [\"a\",1,2.5], (1,\"b\"), {\"a\":1,\"b\":3}]\n",
    "inteiros = [item for item in lista_mista if isinstance(item, dict)]\n",
    "print(inteiros)"
   ]
  },
  {
   "cell_type": "markdown",
   "id": "ed8e8cb5-d5e1-4c2c-8d1d-96b613b273aa",
   "metadata": {},
   "source": [
    "#### Exemplo 7: Criar uma lista de números impares e divide por 2 seus valores"
   ]
  },
  {
   "cell_type": "code",
   "execution_count": 12,
   "id": "8633f89f-d532-4166-8a19-0a57ed8591f5",
   "metadata": {},
   "outputs": [
    {
     "name": "stdout",
     "output_type": "stream",
     "text": [
      "[0.5, 1.5, 2.5, 3.5, 4.5]\n"
     ]
    }
   ],
   "source": [
    "numeros = [1, 2, 3, 4, 5, 6, 7, 8, 9, 10]\n",
    "impares = [num / 2 for num in numeros if num % 2 != 0]\n",
    "print(impares)"
   ]
  },
  {
   "cell_type": "code",
   "execution_count": null,
   "id": "fa6916ed-32cd-402a-957c-dfa2d6cc38d2",
   "metadata": {},
   "outputs": [],
   "source": []
  }
 ],
 "metadata": {
  "kernelspec": {
   "display_name": "Python 3 (ipykernel)",
   "language": "python",
   "name": "python3"
  },
  "language_info": {
   "codemirror_mode": {
    "name": "ipython",
    "version": 3
   },
   "file_extension": ".py",
   "mimetype": "text/x-python",
   "name": "python",
   "nbconvert_exporter": "python",
   "pygments_lexer": "ipython3",
   "version": "3.11.4"
  }
 },
 "nbformat": 4,
 "nbformat_minor": 5
}
